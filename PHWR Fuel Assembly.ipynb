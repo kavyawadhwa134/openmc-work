{
 "cells": [
  {
   "cell_type": "code",
   "execution_count": 30,
   "id": "924b70e2-9d62-4e8b-b524-292b638ce960",
   "metadata": {},
   "outputs": [],
   "source": [
    "%matplotlib inline\n",
    "from math import pi, sin, cos\n",
    "import numpy as np\n",
    "import openmc"
   ]
  },
  {
   "cell_type": "code",
   "execution_count": 31,
   "id": "29722e4e-5e1f-4c7d-b3f8-1793039fa42e",
   "metadata": {},
   "outputs": [],
   "source": [
    "fuel_material = openmc.Material(name=\"Natural UO2 Fuel\")\n",
    "fuel_material.add_nuclide('U235', 0.0072)  \n",
    "fuel_material.add_nuclide('U238', 0.9928) \n",
    "fuel_material.add_element('O', 2)\n",
    "fuel_material.set_density('g/cm3', 10.5)"
   ]
  },
  {
   "cell_type": "code",
   "execution_count": 32,
   "id": "c6764d4e-d102-4799-aef3-f879a08225d4",
   "metadata": {},
   "outputs": [],
   "source": [
    "cladding = openmc.Material(name=\"Zirconium Cladding\")\n",
    "cladding.add_element('Zr', 1)\n",
    "cladding.set_density('g/cm3', 6.55)  "
   ]
  },
  {
   "cell_type": "code",
   "execution_count": 33,
   "id": "ac724aab-0606-4974-b920-361432ae9527",
   "metadata": {},
   "outputs": [],
   "source": [
    "coolant = openmc.Material(name=\"Heavy Water (D2O)\")\n",
    "coolant.add_element('H', 2)  \n",
    "coolant.add_element('O', 1)\n",
    "coolant.set_density('g/cm3', 1.11)  "
   ]
  },
  {
   "cell_type": "code",
   "execution_count": 34,
   "id": "19aabad0-4568-4c90-a932-79298883a43d",
   "metadata": {},
   "outputs": [],
   "source": [
    "# Outer radius of fuel and clad\n",
    "r_fuel = 0.6122\n",
    "r_clad = 0.6540\n",
    "\n",
    "# Pressure tube and calendria radii\n",
    "#pressure_tube_ir = 5.16890\n",
    "#pressure_tube_or = 5.60320\n",
    "pressure_tube_ir = 3.6689\n",
    "pressure_tube_or = 3.9031\n",
    "calendria_ir = 4.6677\n",
    "calendria_or = 4.8075\n",
    "#calendria_ir = 6.44780\n",
    "#calendria_or = 6.58750\n",
    "\n",
    "# Radius to center of each ring of fuel pins\n",
    "ring_radii = np.array([0.0, 1.4885, 2.8755])"
   ]
  },
  {
   "cell_type": "code",
   "execution_count": 35,
   "id": "be8ac16d-877b-4ca0-bf83-ec00869e95a2",
   "metadata": {},
   "outputs": [],
   "source": [
    "# These are the surfaces that will divide each of the rings\n",
    "radial_surf = [openmc.ZCylinder(r=r) for r in\n",
    "               (ring_radii[:-1] + ring_radii[1:])/2]\n",
    "\n",
    "water_cells = []\n",
    "for i in range(ring_radii.size):\n",
    "    # Create annular region\n",
    "    if i == 0:\n",
    "        water_region = -radial_surf[i]\n",
    "    elif i == ring_radii.size - 1:\n",
    "        water_region = +radial_surf[i-1]\n",
    "    else:\n",
    "        water_region = +radial_surf[i-1] & -radial_surf[i]\n",
    "        \n",
    "    water_cells.append(openmc.Cell(fill=coolant, region=water_region))"
   ]
  },
  {
   "cell_type": "code",
   "execution_count": 36,
   "id": "23fcc23e-5b89-43e7-bf5c-fe11f0d7b0a9",
   "metadata": {},
   "outputs": [
    {
     "data": {
      "text/plain": [
       "<Axes: xlabel='x [cm]', ylabel='y [cm]'>"
      ]
     },
     "execution_count": 36,
     "metadata": {},
     "output_type": "execute_result"
    },
    {
     "data": {
      "image/png": "[encoded data removed]",
      "text/plain": [
       "<Figure size 258.065x259.74 with 1 Axes>"
      ]
     },
     "metadata": {},
     "output_type": "display_data"
    }
   ],
   "source": [
    "plot_args = {'width': (2*calendria_or, 2*calendria_or)}\n",
    "bundle_universe = openmc.Universe(cells=water_cells)\n",
    "bundle_universe.plot(**plot_args)"
   ]
  },
  {
   "cell_type": "code",
   "execution_count": 37,
   "id": "c508a603-1a93-4c5f-940b-ba83153a9d93",
   "metadata": {},
   "outputs": [],
   "source": [
    "surf_fuel = openmc.ZCylinder(r=r_fuel)\n",
    "\n",
    "fuel_cell = openmc.Cell(fill=fuel_material, region=-surf_fuel)\n",
    "clad_cell = openmc.Cell(fill=cladding, region=+surf_fuel)\n",
    "\n",
    "pin_universe = openmc.Universe(cells=(fuel_cell, clad_cell))"
   ]
  },
  {
   "cell_type": "code",
   "execution_count": 38,
   "id": "afa60a07-a854-4e9e-ba7f-251a7bd7119a",
   "metadata": {},
   "outputs": [
    {
     "data": {
      "text/plain": [
       "<Axes: xlabel='x [cm]', ylabel='y [cm]'>"
      ]
     },
     "execution_count": 38,
     "metadata": {},
     "output_type": "execute_result"
    },
    {
     "data": {
      "image/png": "[encoded data removed]",
      "text/plain": [
       "<Figure size 258.065x259.74 with 1 Axes>"
      ]
     },
     "metadata": {},
     "output_type": "display_data"
    }
   ],
   "source": [
    "pin_universe.plot(**plot_args)"
   ]
  },
  {
   "cell_type": "code",
   "execution_count": 39,
   "id": "ea4ced4f-7f23-4771-8cd4-d6f538803180",
   "metadata": {},
   "outputs": [
    {
     "name": "stderr",
     "output_type": "stream",
     "text": [
      "/Users/kavyawadhwa/Anaconda/anaconda3/envs/openmc/lib/python3.13/site-packages/openmc/mixin.py:70: IDWarning: Another Cell instance already exists with id=100.\n",
      "  warn(msg, IDWarning)\n",
      "/Users/kavyawadhwa/Anaconda/anaconda3/envs/openmc/lib/python3.13/site-packages/openmc/mixin.py:70: IDWarning: Another Cell instance already exists with id=200.\n",
      "  warn(msg, IDWarning)\n",
      "/Users/kavyawadhwa/Anaconda/anaconda3/envs/openmc/lib/python3.13/site-packages/openmc/mixin.py:70: IDWarning: Another Cell instance already exists with id=201.\n",
      "  warn(msg, IDWarning)\n",
      "/Users/kavyawadhwa/Anaconda/anaconda3/envs/openmc/lib/python3.13/site-packages/openmc/mixin.py:70: IDWarning: Another Cell instance already exists with id=202.\n",
      "  warn(msg, IDWarning)\n",
      "/Users/kavyawadhwa/Anaconda/anaconda3/envs/openmc/lib/python3.13/site-packages/openmc/mixin.py:70: IDWarning: Another Cell instance already exists with id=203.\n",
      "  warn(msg, IDWarning)\n",
      "/Users/kavyawadhwa/Anaconda/anaconda3/envs/openmc/lib/python3.13/site-packages/openmc/mixin.py:70: IDWarning: Another Cell instance already exists with id=204.\n",
      "  warn(msg, IDWarning)\n",
      "/Users/kavyawadhwa/Anaconda/anaconda3/envs/openmc/lib/python3.13/site-packages/openmc/mixin.py:70: IDWarning: Another Cell instance already exists with id=205.\n",
      "  warn(msg, IDWarning)\n",
      "/Users/kavyawadhwa/Anaconda/anaconda3/envs/openmc/lib/python3.13/site-packages/openmc/mixin.py:70: IDWarning: Another Cell instance already exists with id=300.\n",
      "  warn(msg, IDWarning)\n",
      "/Users/kavyawadhwa/Anaconda/anaconda3/envs/openmc/lib/python3.13/site-packages/openmc/mixin.py:70: IDWarning: Another Cell instance already exists with id=301.\n",
      "  warn(msg, IDWarning)\n",
      "/Users/kavyawadhwa/Anaconda/anaconda3/envs/openmc/lib/python3.13/site-packages/openmc/mixin.py:70: IDWarning: Another Cell instance already exists with id=302.\n",
      "  warn(msg, IDWarning)\n",
      "/Users/kavyawadhwa/Anaconda/anaconda3/envs/openmc/lib/python3.13/site-packages/openmc/mixin.py:70: IDWarning: Another Cell instance already exists with id=303.\n",
      "  warn(msg, IDWarning)\n",
      "/Users/kavyawadhwa/Anaconda/anaconda3/envs/openmc/lib/python3.13/site-packages/openmc/mixin.py:70: IDWarning: Another Cell instance already exists with id=304.\n",
      "  warn(msg, IDWarning)\n",
      "/Users/kavyawadhwa/Anaconda/anaconda3/envs/openmc/lib/python3.13/site-packages/openmc/mixin.py:70: IDWarning: Another Cell instance already exists with id=305.\n",
      "  warn(msg, IDWarning)\n",
      "/Users/kavyawadhwa/Anaconda/anaconda3/envs/openmc/lib/python3.13/site-packages/openmc/mixin.py:70: IDWarning: Another Cell instance already exists with id=306.\n",
      "  warn(msg, IDWarning)\n",
      "/Users/kavyawadhwa/Anaconda/anaconda3/envs/openmc/lib/python3.13/site-packages/openmc/mixin.py:70: IDWarning: Another Cell instance already exists with id=307.\n",
      "  warn(msg, IDWarning)\n",
      "/Users/kavyawadhwa/Anaconda/anaconda3/envs/openmc/lib/python3.13/site-packages/openmc/mixin.py:70: IDWarning: Another Cell instance already exists with id=308.\n",
      "  warn(msg, IDWarning)\n",
      "/Users/kavyawadhwa/Anaconda/anaconda3/envs/openmc/lib/python3.13/site-packages/openmc/mixin.py:70: IDWarning: Another Cell instance already exists with id=309.\n",
      "  warn(msg, IDWarning)\n",
      "/Users/kavyawadhwa/Anaconda/anaconda3/envs/openmc/lib/python3.13/site-packages/openmc/mixin.py:70: IDWarning: Another Cell instance already exists with id=310.\n",
      "  warn(msg, IDWarning)\n",
      "/Users/kavyawadhwa/Anaconda/anaconda3/envs/openmc/lib/python3.13/site-packages/openmc/mixin.py:70: IDWarning: Another Cell instance already exists with id=311.\n",
      "  warn(msg, IDWarning)\n"
     ]
    }
   ],
   "source": [
    "num_pins = [1, 6, 12]\n",
    "angles = [0, 0, 15]\n",
    "\n",
    "for i, (r, n, a) in enumerate(zip(ring_radii, num_pins, angles)):\n",
    "    for j in range(n):\n",
    "        # Determine location of center of pin\n",
    "        theta = (a + j/n*360.) * pi/180.\n",
    "        x = r*cos(theta)\n",
    "        y = r*sin(theta)\n",
    "        \n",
    "        pin_boundary = openmc.ZCylinder(x0=x, y0=y, r=r_clad)\n",
    "        water_cells[i].region &= +pin_boundary\n",
    "        \n",
    "        # Create each fuel pin -- note that we explicitly assign an ID so \n",
    "        # that we can identify the pin later when looking at tallies\n",
    "        pin = openmc.Cell(fill=pin_universe, region=-pin_boundary)\n",
    "        pin.translation = (x, y, 0)\n",
    "        pin.id = (i + 1)*100 + j\n",
    "        bundle_universe.add_cell(pin)"
   ]
  },
  {
   "cell_type": "code",
   "execution_count": 40,
   "id": "4d4a7fdb-74f3-4634-ba17-c1a898933c16",
   "metadata": {},
   "outputs": [
    {
     "data": {
      "text/plain": [
       "<Axes: xlabel='x [cm]', ylabel='y [cm]'>"
      ]
     },
     "execution_count": 40,
     "metadata": {},
     "output_type": "execute_result"
    },
    {
     "data": {
      "image/png": "[encoded data removed]",
      "text/plain": [
       "<Figure size 258.065x259.74 with 1 Axes>"
      ]
     },
     "metadata": {},
     "output_type": "display_data"
    }
   ],
   "source": [
    "bundle_universe.plot(**plot_args)"
   ]
  },
  {
   "cell_type": "code",
   "execution_count": 41,
   "id": "5e19b316-d095-4c9e-93e2-7375f1df7df6",
   "metadata": {},
   "outputs": [],
   "source": [
    "pt_inner = openmc.ZCylinder(r=pressure_tube_ir)\n",
    "pt_outer = openmc.ZCylinder(r=pressure_tube_or)\n",
    "calendria_inner = openmc.ZCylinder(r=calendria_ir)\n",
    "calendria_outer = openmc.ZCylinder(r=calendria_or, boundary_type='vacuum')\n",
    "\n",
    "bundle = openmc.Cell(fill=bundle_universe, region=-pt_inner)\n",
    "pressure_tube = openmc.Cell(fill=cladding, region=+pt_inner & -pt_outer)\n",
    "v1 = openmc.Cell(region=+pt_outer & -calendria_inner)\n",
    "calendria = openmc.Cell(fill=cladding, region=+calendria_inner & -calendria_outer)\n",
    "\n",
    "root_universe = openmc.Universe(cells=[bundle, pressure_tube, v1, calendria])"
   ]
  },
  {
   "cell_type": "code",
   "execution_count": 42,
   "id": "7cb12693-8600-4157-9fe9-87d7a87d2a80",
   "metadata": {},
   "outputs": [],
   "source": [
    "geometry = openmc.Geometry(root_universe)\n",
    "geometry.export_to_xml()\n",
    "\n",
    "materials = openmc.Materials(geometry.get_all_materials().values())\n",
    "materials.export_to_xml()"
   ]
  },
  {
   "cell_type": "code",
   "execution_count": 43,
   "id": "d3eae592-3085-42c8-a636-decc2b67ecd9",
   "metadata": {},
   "outputs": [
    {
     "data": {
      "image/png": "[encoded data removed]",
      "text/plain": [
       "<IPython.core.display.Image object>"
      ]
     },
     "execution_count": 43,
     "metadata": {},
     "output_type": "execute_result"
    }
   ],
   "source": [
    "plot = openmc.Plot.from_geometry(geometry)\n",
    "plot.color_by = 'material'\n",
    "plot.colors = {\n",
    "    fuel_material: 'orange',\n",
    "    cladding: 'silver',\n",
    "    coolant: 'cyan'\n",
    "}\n",
    "plot.to_ipython_image()"
   ]
  },
  {
   "cell_type": "code",
   "execution_count": 20,
   "id": "d45ef79f-4d1b-495a-958d-d8dc2692d490",
   "metadata": {},
   "outputs": [],
   "source": [
    "settings = openmc.Settings()\n",
    "settings.particles = 1000\n",
    "settings.batches = 200\n",
    "settings.inactive = 10\n",
    "settings.source = openmc.IndependentSource(space=openmc.stats.Point())\n",
    "settings.output = {'tallies' : False}\n",
    "settings.export_to_xml()"
   ]
  },
  {
   "cell_type": "code",
   "execution_count": 21,
   "id": "466a4072-cddf-4a3f-ba29-218ff167fc6e",
   "metadata": {},
   "outputs": [],
   "source": [
    "fuel_tally = openmc.Tally()\n",
    "fuel_tally.filters = [openmc.DistribcellFilter(fuel_cell)]\n",
    "fuel_tally.scores = ['flux']\n",
    "\n",
    "tallies = openmc.Tallies([fuel_tally])\n",
    "tallies.export_to_xml()"
   ]
  },
  {
   "cell_type": "code",
   "execution_count": 22,
   "id": "49901099-d034-4f26-8c7b-cac1faad0445",
   "metadata": {},
   "outputs": [
    {
     "name": "stdout",
     "output_type": "stream",
     "text": [
      "[KAVYAs-MacBook-Air.local:41596] shmem: mmap: an error occurred while determining whether or not /var/folders/r_/4w66l1vj4tlgqqxv9j741qdr0000gn/T//ompi.KAVYAs-MacBook-Air.501/jf.0/1787887616/sm_segment.KAVYAs-MacBook-Air.501.6a910000.0 could be created.\n",
      "                                %%%%%%%%%%%%%%%\n",
      "                           %%%%%%%%%%%%%%%%%%%%%%%%\n",
      "                        %%%%%%%%%%%%%%%%%%%%%%%%%%%%%%\n",
      "                      %%%%%%%%%%%%%%%%%%%%%%%%%%%%%%%%%%\n",
      "                    %%%%%%%%%%%%%%%%%%%%%%%%%%%%%%%%%%%%%%\n",
      "                   %%%%%%%%%%%%%%%%%%%%%%%%%%%%%%%%%%%%%%%%\n",
      "                                    %%%%%%%%%%%%%%%%%%%%%%%%\n",
      "                                     %%%%%%%%%%%%%%%%%%%%%%%%\n",
      "                 ###############      %%%%%%%%%%%%%%%%%%%%%%%%\n",
      "                ##################     %%%%%%%%%%%%%%%%%%%%%%%\n",
      "                ###################     %%%%%%%%%%%%%%%%%%%%%%%\n",
      "                ####################     %%%%%%%%%%%%%%%%%%%%%%\n",
      "                #####################     %%%%%%%%%%%%%%%%%%%%%\n",
      "                ######################     %%%%%%%%%%%%%%%%%%%%\n",
      "                #######################     %%%%%%%%%%%%%%%%%%\n",
      "                 #######################     %%%%%%%%%%%%%%%%%\n",
      "                 ######################     %%%%%%%%%%%%%%%%%\n",
      "                  ####################     %%%%%%%%%%%%%%%%%\n",
      "                    #################     %%%%%%%%%%%%%%%%%\n",
      "                     ###############     %%%%%%%%%%%%%%%%\n",
      "                       ############     %%%%%%%%%%%%%%%\n",
      "                          ########     %%%%%%%%%%%%%%\n",
      "                                      %%%%%%%%%%%\n",
      "\n",
      "                 | The OpenMC Monte Carlo Code\n",
      "       Copyright | 2011-2024 MIT, UChicago Argonne LLC, and contributors\n",
      "         License | https://docs.openmc.org/en/latest/license.html\n",
      "         Version | 0.15.1-dev\n",
      "        Git SHA1 | de8132a5a431660f5ff515cc7894ea0f283d3bec\n",
      "       Date/Time | 2024-12-28 14:02:25\n",
      "   MPI Processes | 1\n",
      "\n",
      " Reading settings XML file...\n",
      " Reading cross sections XML file...\n",
      " Reading materials XML file...\n",
      " Reading geometry XML file...\n",
      " Reading U235 from /Users/kavyawadhwa/openmc/mcnp_endfb70/U235.h5\n",
      " Reading U238 from /Users/kavyawadhwa/openmc/mcnp_endfb70/U238.h5\n",
      " Reading O16 from /Users/kavyawadhwa/openmc/mcnp_endfb70/O16.h5\n",
      " Reading O17 from /Users/kavyawadhwa/openmc/mcnp_endfb70/O17.h5\n",
      " Reading Zr90 from /Users/kavyawadhwa/openmc/mcnp_endfb70/Zr90.h5\n",
      " Reading Zr91 from /Users/kavyawadhwa/openmc/mcnp_endfb70/Zr91.h5\n",
      " Reading Zr92 from /Users/kavyawadhwa/openmc/mcnp_endfb70/Zr92.h5\n",
      " Reading Zr94 from /Users/kavyawadhwa/openmc/mcnp_endfb70/Zr94.h5\n",
      " Reading Zr96 from /Users/kavyawadhwa/openmc/mcnp_endfb70/Zr96.h5\n",
      " Reading H1 from /Users/kavyawadhwa/openmc/mcnp_endfb70/H1.h5\n",
      " Reading H2 from /Users/kavyawadhwa/openmc/mcnp_endfb70/H2.h5\n",
      " Minimum neutron data temperature: 294 K\n",
      " Maximum neutron data temperature: 294 K\n",
      " Reading tallies XML file...\n",
      " Preparing distributed cell instances...\n",
      " Reading plot XML file...\n",
      " Writing summary.h5 file...\n",
      " Maximum neutron transport energy: 20000000 eV for U235\n",
      " Initializing source particles...\n",
      "\n",
      " ====================>     K EIGENVALUE SIMULATION     <====================\n",
      "\n",
      "  Bat./Gen.      k            Average k\n",
      "  =========   ========   ====================\n",
      "        1/1    0.06479\n",
      "        2/1    0.05256\n",
      "        3/1    0.05146\n",
      "        4/1    0.05380\n",
      "        5/1    0.04962\n",
      "        6/1    0.04871\n",
      "        7/1    0.04939\n",
      "        8/1    0.04902\n",
      "        9/1    0.05209\n",
      "       10/1    0.05478\n",
      "       11/1    0.05185\n",
      "       12/1    0.05177    0.05181 +/- 0.00004\n",
      "       13/1    0.04902    0.05088 +/- 0.00093\n",
      "       14/1    0.05794    0.05265 +/- 0.00188\n",
      "       15/1    0.05849    0.05381 +/- 0.00187\n",
      "       16/1    0.04786    0.05282 +/- 0.00182\n",
      "       17/1    0.05202    0.05271 +/- 0.00154\n",
      "       18/1    0.05265    0.05270 +/- 0.00134\n",
      "       19/1    0.05193    0.05261 +/- 0.00118\n",
      "       20/1    0.04982    0.05233 +/- 0.00109\n",
      "       21/1    0.05680    0.05274 +/- 0.00107\n",
      "       22/1    0.05569    0.05299 +/- 0.00101\n",
      "       23/1    0.04913    0.05269 +/- 0.00097\n",
      "       24/1    0.05619    0.05294 +/- 0.00093\n",
      "       25/1    0.05436    0.05303 +/- 0.00087\n",
      "       26/1    0.05216    0.05298 +/- 0.00082\n",
      "       27/1    0.05800    0.05327 +/- 0.00082\n",
      "       28/1    0.05087    0.05314 +/- 0.00079\n",
      "       29/1    0.05030    0.05299 +/- 0.00076\n",
      "       30/1    0.05140    0.05291 +/- 0.00073\n",
      "       31/1    0.06248    0.05337 +/- 0.00083\n",
      "       32/1    0.04564    0.05302 +/- 0.00086\n",
      "       33/1    0.05642    0.05316 +/- 0.00084\n",
      "       34/1    0.05377    0.05319 +/- 0.00080\n",
      "       35/1    0.04685    0.05294 +/- 0.00081\n",
      "       36/1    0.06073    0.05324 +/- 0.00083\n",
      "       37/1    0.04860    0.05306 +/- 0.00082\n",
      "       38/1    0.05381    0.05309 +/- 0.00079\n",
      "       39/1    0.05621    0.05320 +/- 0.00077\n",
      "       40/1    0.04662    0.05298 +/- 0.00078\n",
      "       41/1    0.04683    0.05278 +/- 0.00078\n",
      "       42/1    0.04987    0.05269 +/- 0.00076\n",
      "       43/1    0.04976    0.05260 +/- 0.00074\n",
      "       44/1    0.05237    0.05259 +/- 0.00072\n",
      "       45/1    0.05428    0.05264 +/- 0.00070\n",
      "       46/1    0.05637    0.05275 +/- 0.00069\n",
      "       47/1    0.05143    0.05271 +/- 0.00067\n",
      "       48/1    0.04695    0.05256 +/- 0.00067\n",
      "       49/1    0.05078    0.05251 +/- 0.00065\n",
      "       50/1    0.05323    0.05253 +/- 0.00064\n",
      "       51/1    0.05274    0.05254 +/- 0.00062\n",
      "       52/1    0.05077    0.05249 +/- 0.00061\n",
      "       53/1    0.04946    0.05242 +/- 0.00060\n",
      "       54/1    0.05487    0.05248 +/- 0.00059\n",
      "       55/1    0.05307    0.05249 +/- 0.00057\n",
      "       56/1    0.04777    0.05239 +/- 0.00057\n",
      "       57/1    0.05048    0.05235 +/- 0.00056\n",
      "       58/1    0.05544    0.05241 +/- 0.00055\n",
      "       59/1    0.05035    0.05237 +/- 0.00054\n",
      "       60/1    0.05697    0.05246 +/- 0.00054\n",
      "       61/1    0.05162    0.05245 +/- 0.00053\n",
      "       62/1    0.04929    0.05239 +/- 0.00052\n",
      "       63/1    0.05185    0.05238 +/- 0.00051\n",
      "       64/1    0.04311    0.05220 +/- 0.00053\n",
      "       65/1    0.05026    0.05217 +/- 0.00052\n",
      "       66/1    0.05449    0.05221 +/- 0.00051\n",
      "       67/1    0.04947    0.05216 +/- 0.00051\n",
      "       68/1    0.05069    0.05214 +/- 0.00050\n",
      "       69/1    0.05449    0.05218 +/- 0.00049\n",
      "       70/1    0.05306    0.05219 +/- 0.00048\n",
      "       71/1    0.05082    0.05217 +/- 0.00048\n",
      "       72/1    0.04823    0.05211 +/- 0.00047\n",
      "       73/1    0.05153    0.05210 +/- 0.00047\n",
      "       74/1    0.04904    0.05205 +/- 0.00046\n",
      "       75/1    0.04797    0.05199 +/- 0.00046\n",
      "       76/1    0.04905    0.05194 +/- 0.00045\n",
      "       77/1    0.04867    0.05189 +/- 0.00045\n",
      "       78/1    0.05787    0.05198 +/- 0.00045\n",
      "       79/1    0.05372    0.05201 +/- 0.00045\n",
      "       80/1    0.05331    0.05202 +/- 0.00044\n",
      "       81/1    0.05495    0.05207 +/- 0.00044\n",
      "       82/1    0.05211    0.05207 +/- 0.00043\n",
      "       83/1    0.04939    0.05203 +/- 0.00042\n",
      "       84/1    0.05975    0.05213 +/- 0.00043\n",
      "       85/1    0.05857    0.05222 +/- 0.00043\n",
      "       86/1    0.05774    0.05229 +/- 0.00043\n",
      "       87/1    0.05247    0.05229 +/- 0.00043\n",
      "       88/1    0.05016    0.05227 +/- 0.00042\n",
      "       89/1    0.05134    0.05226 +/- 0.00042\n",
      "       90/1    0.05299    0.05226 +/- 0.00041\n",
      "       91/1    0.04985    0.05223 +/- 0.00041\n",
      "       92/1    0.05410    0.05226 +/- 0.00041\n",
      "       93/1    0.04994    0.05223 +/- 0.00040\n",
      "       94/1    0.05960    0.05232 +/- 0.00041\n",
      "       95/1    0.05044    0.05229 +/- 0.00040\n",
      "       96/1    0.04630    0.05223 +/- 0.00040\n",
      "       97/1    0.05217    0.05222 +/- 0.00040\n",
      "       98/1    0.04933    0.05219 +/- 0.00040\n",
      "       99/1    0.05158    0.05218 +/- 0.00039\n",
      "      100/1    0.04913    0.05215 +/- 0.00039\n",
      "      101/1    0.04970    0.05212 +/- 0.00039\n",
      "      102/1    0.04819    0.05208 +/- 0.00038\n",
      "      103/1    0.04682    0.05202 +/- 0.00038\n",
      "      104/1    0.05204    0.05202 +/- 0.00038\n",
      "      105/1    0.05092    0.05201 +/- 0.00038\n",
      "      106/1    0.05118    0.05200 +/- 0.00037\n",
      "      107/1    0.04908    0.05197 +/- 0.00037\n",
      "      108/1    0.04980    0.05195 +/- 0.00037\n",
      "      109/1    0.05247    0.05196 +/- 0.00036\n",
      "      110/1    0.04719    0.05191 +/- 0.00036\n",
      "      111/1    0.04884    0.05188 +/- 0.00036\n",
      "      112/1    0.04972    0.05186 +/- 0.00036\n",
      "      113/1    0.04888    0.05183 +/- 0.00035\n",
      "      114/1    0.05269    0.05184 +/- 0.00035\n",
      "      115/1    0.04838    0.05180 +/- 0.00035\n",
      "      116/1    0.05014    0.05179 +/- 0.00035\n",
      "      117/1    0.05330    0.05180 +/- 0.00034\n",
      "      118/1    0.04603    0.05175 +/- 0.00034\n",
      "      119/1    0.04989    0.05173 +/- 0.00034\n",
      "      120/1    0.05368    0.05175 +/- 0.00034\n",
      "      121/1    0.04901    0.05173 +/- 0.00034\n",
      "      122/1    0.05455    0.05175 +/- 0.00033\n",
      "      123/1    0.05404    0.05177 +/- 0.00033\n",
      "      124/1    0.05039    0.05176 +/- 0.00033\n",
      "      125/1    0.05108    0.05175 +/- 0.00033\n",
      "      126/1    0.05139    0.05175 +/- 0.00032\n",
      "      127/1    0.04821    0.05172 +/- 0.00032\n",
      "      128/1    0.05078    0.05171 +/- 0.00032\n",
      "      129/1    0.05365    0.05173 +/- 0.00032\n",
      "      130/1    0.05379    0.05174 +/- 0.00032\n",
      "      131/1    0.05297    0.05175 +/- 0.00031\n",
      "      132/1    0.05379    0.05177 +/- 0.00031\n",
      "      133/1    0.04958    0.05175 +/- 0.00031\n",
      "      134/1    0.05005    0.05174 +/- 0.00031\n",
      "      135/1    0.05606    0.05177 +/- 0.00031\n",
      "      136/1    0.05373    0.05179 +/- 0.00030\n",
      "      137/1    0.04821    0.05176 +/- 0.00030\n",
      "      138/1    0.04675    0.05172 +/- 0.00030\n",
      "      139/1    0.04851    0.05170 +/- 0.00030\n",
      "      140/1    0.05377    0.05171 +/- 0.00030\n",
      "      141/1    0.05116    0.05171 +/- 0.00030\n",
      "      142/1    0.05191    0.05171 +/- 0.00030\n",
      "      143/1    0.05161    0.05171 +/- 0.00029\n",
      "      144/1    0.04912    0.05169 +/- 0.00029\n",
      "      145/1    0.05457    0.05171 +/- 0.00029\n",
      "      146/1    0.05237    0.05172 +/- 0.00029\n",
      "      147/1    0.04916    0.05170 +/- 0.00029\n",
      "      148/1    0.05065    0.05169 +/- 0.00028\n",
      "      149/1    0.04559    0.05165 +/- 0.00029\n",
      "      150/1    0.04585    0.05161 +/- 0.00029\n",
      "      151/1    0.05157    0.05161 +/- 0.00028\n",
      "      152/1    0.04906    0.05159 +/- 0.00028\n",
      "      153/1    0.04920    0.05157 +/- 0.00028\n",
      "      154/1    0.05142    0.05157 +/- 0.00028\n",
      "      155/1    0.05475    0.05159 +/- 0.00028\n",
      "      156/1    0.05114    0.05159 +/- 0.00028\n",
      "      157/1    0.04705    0.05156 +/- 0.00028\n",
      "      158/1    0.05575    0.05159 +/- 0.00028\n",
      "      159/1    0.05459    0.05161 +/- 0.00028\n",
      "      160/1    0.04803    0.05158 +/- 0.00027\n",
      "      161/1    0.04772    0.05156 +/- 0.00027\n",
      "      162/1    0.05326    0.05157 +/- 0.00027\n",
      "      163/1    0.04826    0.05155 +/- 0.00027\n",
      "      164/1    0.04970    0.05153 +/- 0.00027\n",
      "      165/1    0.05062    0.05153 +/- 0.00027\n",
      "      166/1    0.05458    0.05155 +/- 0.00027\n",
      "      167/1    0.04642    0.05152 +/- 0.00027\n",
      "      168/1    0.04752    0.05149 +/- 0.00027\n",
      "      169/1    0.05135    0.05149 +/- 0.00027\n",
      "      170/1    0.04954    0.05148 +/- 0.00026\n",
      "      171/1    0.04823    0.05146 +/- 0.00026\n",
      "      172/1    0.05346    0.05147 +/- 0.00026\n",
      "      173/1    0.05007    0.05146 +/- 0.00026\n",
      "      174/1    0.04733    0.05144 +/- 0.00026\n",
      "      175/1    0.04848    0.05142 +/- 0.00026\n",
      "      176/1    0.04884    0.05140 +/- 0.00026\n",
      "      177/1    0.05781    0.05144 +/- 0.00026\n",
      "      178/1    0.05353    0.05145 +/- 0.00026\n",
      "      179/1    0.05280    0.05146 +/- 0.00026\n",
      "      180/1    0.04798    0.05144 +/- 0.00026\n",
      "      181/1    0.05335    0.05145 +/- 0.00025\n",
      "      182/1    0.04970    0.05144 +/- 0.00025\n",
      "      183/1    0.05337    0.05145 +/- 0.00025\n",
      "      184/1    0.04579    0.05142 +/- 0.00025\n",
      "      185/1    0.05129    0.05142 +/- 0.00025\n",
      "      186/1    0.05196    0.05142 +/- 0.00025\n",
      "      187/1    0.04920    0.05141 +/- 0.00025\n",
      "      188/1    0.04956    0.05140 +/- 0.00025\n",
      "      189/1    0.04815    0.05138 +/- 0.00025\n",
      "      190/1    0.05205    0.05138 +/- 0.00025\n",
      "      191/1    0.05076    0.05138 +/- 0.00024\n",
      "      192/1    0.05488    0.05140 +/- 0.00024\n",
      "      193/1    0.04683    0.05138 +/- 0.00024\n",
      "      194/1    0.04939    0.05136 +/- 0.00024\n",
      "      195/1    0.05229    0.05137 +/- 0.00024\n",
      "      196/1    0.04694    0.05135 +/- 0.00024\n",
      "      197/1    0.05730    0.05138 +/- 0.00024\n",
      "      198/1    0.05226    0.05138 +/- 0.00024\n",
      "      199/1    0.05051    0.05138 +/- 0.00024\n",
      "      200/1    0.04719    0.05136 +/- 0.00024\n",
      " Creating state point statepoint.200.h5...\n",
      "\n",
      " =======================>     TIMING STATISTICS     <=======================\n",
      "\n",
      " Total time for initialization     = 1.5566e-01 seconds\n",
      "   Reading cross sections          = 1.4600e-01 seconds\n",
      " Total time in simulation          = 1.0146e+00 seconds\n",
      "   Time in transport only          = 1.0087e+00 seconds\n",
      "   Time in inactive batches        = 4.7945e-02 seconds\n",
      "   Time in active batches          = 9.6665e-01 seconds\n",
      "   Time synchronizing fission bank = 2.8327e-03 seconds\n",
      "     Sampling source sites         = 2.4509e-03 seconds\n",
      "     SEND/RECV source sites        = 3.5384e-04 seconds\n",
      "   Time accumulating tallies       = 1.7129e-05 seconds\n",
      "   Time writing statepoints        = 1.4599e-03 seconds\n",
      " Total time for finalization       = 3.8330e-06 seconds\n",
      " Total time elapsed                = 1.1720e+00 seconds\n",
      " Calculation Rate (inactive)       = 208573 particles/second\n",
      " Calculation Rate (active)         = 196556 particles/second\n",
      "\n",
      " ============================>     RESULTS     <============================\n",
      "\n",
      " k-effective (Collision)     = 0.05139 +/- 0.00029\n",
      " k-effective (Track-length)  = 0.05136 +/- 0.00024\n",
      " k-effective (Absorption)    = 0.05146 +/- 0.00081\n",
      " Combined k-effective        = 0.05136 +/- 0.00024\n",
      " Leakage Fraction            = 0.95892 +/- 0.00046\n",
      "\n"
     ]
    }
   ],
   "source": [
    "openmc.run(output=True)"
   ]
  },
  {
   "cell_type": "code",
   "execution_count": null,
   "id": "6a31b569-0b58-405f-9d64-2fc299508bfd",
   "metadata": {},
   "outputs": [],
   "source": []
  },
  {
   "cell_type": "code",
   "execution_count": null,
   "id": "941353cb-b6b4-409e-a134-3aedc8acb8f8",
   "metadata": {},
   "outputs": [],
   "source": []
  }
 ],
 "metadata": {
  "kernelspec": {
   "display_name": "Python (openmc)",
   "language": "python",
   "name": "openmc"
  },
  "language_info": {
   "codemirror_mode": {
    "name": "ipython",
    "version": 3
   },
   "file_extension": ".py",
   "mimetype": "text/x-python",
   "name": "python",
   "nbconvert_exporter": "python",
   "pygments_lexer": "ipython3",
   "version": "3.13.1"
  }
 },
 "nbformat": 4,
 "nbformat_minor": 5
}
