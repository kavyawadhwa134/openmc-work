{
 "cells": [
  {
   "cell_type": "code",
   "execution_count": 2,
   "id": "924b70e2-9d62-4e8b-b524-292b638ce960",
   "metadata": {},
   "outputs": [],
   "source": [
    "%matplotlib inline\n",
    "from math import pi, sin, cos\n",
    "import numpy as np\n",
    "import openmc"
   ]
  },
  {
   "cell_type": "code",
   "execution_count": 3,
   "id": "29722e4e-5e1f-4c7d-b3f8-1793039fa42e",
   "metadata": {},
   "outputs": [],
   "source": [
    "fuel_material = openmc.Material(name=\"Natural UO2 Fuel\")\n",
    "fuel_material.add_nuclide('U235', 0.0072)  \n",
    "fuel_material.add_nuclide('U238', 0.9928) \n",
    "fuel_material.add_element('O', 2)\n",
    "fuel_material.set_density('g/cm3', 10.5)"
   ]
  },
  {
   "cell_type": "code",
   "execution_count": 4,
   "id": "c6764d4e-d102-4799-aef3-f879a08225d4",
   "metadata": {},
   "outputs": [],
   "source": [
    "cladding = openmc.Material(name=\"Zirconium Cladding\")\n",
    "cladding.add_element('Zr', 1)\n",
    "cladding.set_density('g/cm3', 6.55)  "
   ]
  },
  {
   "cell_type": "code",
   "execution_count": 5,
   "id": "ac724aab-0606-4974-b920-361432ae9527",
   "metadata": {},
   "outputs": [],
   "source": [
    "coolant = openmc.Material(name=\"Heavy Water (D2O)\")\n",
    "coolant.add_element('H', 2)  \n",
    "coolant.add_element('O', 1)\n",
    "coolant.set_density('g/cm3', 1.11)  "
   ]
  },
  {
   "cell_type": "code",
   "execution_count": 10,
   "id": "19aabad0-4568-4c90-a932-79298883a43d",
   "metadata": {},
   "outputs": [],
   "source": [
    "# Outer radius of fuel and clad\n",
    "r_fuel = 0.6122\n",
    "r_clad = 0.6540\n",
    "\n",
    "# Pressure tube and calendria radii\n",
    "pressure_tube_ir = 5.16890\n",
    "pressure_tube_or = 5.60320\n",
    "calendria_ir = 6.44780\n",
    "calendria_or = 6.58750\n",
    "\n",
    "# Radius to center of each ring of fuel pins\n",
    "ring_radii = np.array([0.0, 1.4885, 2.8755, 4.3305])"
   ]
  },
  {
   "cell_type": "code",
   "execution_count": 11,
   "id": "be8ac16d-877b-4ca0-bf83-ec00869e95a2",
   "metadata": {},
   "outputs": [],
   "source": [
    "# These are the surfaces that will divide each of the rings\n",
    "radial_surf = [openmc.ZCylinder(r=r) for r in\n",
    "               (ring_radii[:-1] + ring_radii[1:])/2]\n",
    "\n",
    "water_cells = []\n",
    "for i in range(ring_radii.size):\n",
    "    # Create annular region\n",
    "    if i == 0:\n",
    "        water_region = -radial_surf[i]\n",
    "    elif i == ring_radii.size - 1:\n",
    "        water_region = +radial_surf[i-1]\n",
    "    else:\n",
    "        water_region = +radial_surf[i-1] & -radial_surf[i]\n",
    "        \n",
    "    water_cells.append(openmc.Cell(fill=coolant, region=water_region))"
   ]
  },
  {
   "cell_type": "code",
   "execution_count": 12,
   "id": "23fcc23e-5b89-43e7-bf5c-fe11f0d7b0a9",
   "metadata": {},
   "outputs": [
    {
     "data": {
      "text/plain": [
       "<Axes: xlabel='x [cm]', ylabel='y [cm]'>"
      ]
     },
     "execution_count": 12,
     "metadata": {},
     "output_type": "execute_result"
    },
    {
     "data": {
      "image/png": "[encoded data removed]",
      "text/plain": [
       "<Figure size 258.065x259.74 with 1 Axes>"
      ]
     },
     "metadata": {},
     "output_type": "display_data"
    }
   ],
   "source": [
    "plot_args = {'width': (2*calendria_or, 2*calendria_or)}\n",
    "bundle_universe = openmc.Universe(cells=water_cells)\n",
    "bundle_universe.plot(**plot_args)"
   ]
  },
  {
   "cell_type": "code",
   "execution_count": 13,
   "id": "c508a603-1a93-4c5f-940b-ba83153a9d93",
   "metadata": {},
   "outputs": [],
   "source": [
    "surf_fuel = openmc.ZCylinder(r=r_fuel)\n",
    "\n",
    "fuel_cell = openmc.Cell(fill=fuel_material, region=-surf_fuel)\n",
    "clad_cell = openmc.Cell(fill=cladding, region=+surf_fuel)\n",
    "\n",
    "pin_universe = openmc.Universe(cells=(fuel_cell, clad_cell))"
   ]
  },
  {
   "cell_type": "code",
   "execution_count": 38,
   "id": "afa60a07-a854-4e9e-ba7f-251a7bd7119a",
   "metadata": {},
   "outputs": [
    {
     "data": {
      "text/plain": [
       "<Axes: xlabel='x [cm]', ylabel='y [cm]'>"
      ]
     },
     "execution_count": 38,
     "metadata": {},
     "output_type": "execute_result"
    },
    {
     "data": {
      "image/png": "[encoded data removed]",
      "text/plain": [
       "<Figure size 258.065x259.74 with 1 Axes>"
      ]
     },
     "metadata": {},
     "output_type": "display_data"
    }
   ],
   "source": [
    "pin_universe.plot(**plot_args)"
   ]
  },
  {
   "cell_type": "code",
   "execution_count": 14,
   "id": "ea4ced4f-7f23-4771-8cd4-d6f538803180",
   "metadata": {},
   "outputs": [],
   "source": [
    "num_pins = [1, 6, 12,18]\n",
    "angles = [0, 0, 15,0]\n",
    "\n",
    "for i, (r, n, a) in enumerate(zip(ring_radii, num_pins, angles)):\n",
    "    for j in range(n):\n",
    "        # Determine location of center of pin\n",
    "        theta = (a + j/n*360.) * pi/180.\n",
    "        x = r*cos(theta)\n",
    "        y = r*sin(theta)\n",
    "        \n",
    "        pin_boundary = openmc.ZCylinder(x0=x, y0=y, r=r_clad)\n",
    "        water_cells[i].region &= +pin_boundary\n",
    "        \n",
    "        # Create each fuel pin -- note that we explicitly assign an ID so \n",
    "        # that we can identify the pin later when looking at tallies\n",
    "        pin = openmc.Cell(fill=pin_universe, region=-pin_boundary)\n",
    "        pin.translation = (x, y, 0)\n",
    "        pin.id = (i + 1)*100 + j\n",
    "        bundle_universe.add_cell(pin)"
   ]
  },
  {
   "cell_type": "code",
   "execution_count": 15,
   "id": "4d4a7fdb-74f3-4634-ba17-c1a898933c16",
   "metadata": {},
   "outputs": [
    {
     "data": {
      "text/plain": [
       "<Axes: xlabel='x [cm]', ylabel='y [cm]'>"
      ]
     },
     "execution_count": 15,
     "metadata": {},
     "output_type": "execute_result"
    },
    {
     "data": {
      "image/png": "[encoded data removed]",
      "text/plain": [
       "<Figure size 258.065x259.74 with 1 Axes>"
      ]
     },
     "metadata": {},
     "output_type": "display_data"
    }
   ],
   "source": [
    "bundle_universe.plot(**plot_args)"
   ]
  },
  {
   "cell_type": "code",
   "execution_count": 37,
   "id": "5e19b316-d095-4c9e-93e2-7375f1df7df6",
   "metadata": {},
   "outputs": [],
   "source": [
    "pt_inner = openmc.ZCylinder(r=pressure_tube_ir)\n",
    "pt_outer = openmc.ZCylinder(r=pressure_tube_or)\n",
    "calendria_inner = openmc.ZCylinder(r=calendria_ir)\n",
    "calendria_outer = openmc.ZCylinder(r=calendria_or, boundary_type='vacuum')\n",
    "\n",
    "bundle = openmc.Cell(fill=bundle_universe, region=-pt_inner)\n",
    "pressure_tube = openmc.Cell(fill=cladding, region=+pt_inner & -pt_outer)\n",
    "v1 = openmc.Cell(region=+pt_outer & -calendria_inner)\n",
    "calendria = openmc.Cell(fill=cladding, region=+calendria_inner & -calendria_outer)\n",
    "\n",
    "root_universe = openmc.Universe(cells=[bundle, pressure_tube, v1, calendria])"
   ]
  },
  {
   "cell_type": "code",
   "execution_count": 38,
   "id": "7cb12693-8600-4157-9fe9-87d7a87d2a80",
   "metadata": {},
   "outputs": [],
   "source": [
    "geometry = openmc.Geometry(root_universe)\n",
    "geometry.export_to_xml()\n",
    "\n",
    "materials = openmc.Materials(geometry.get_all_materials().values())\n",
    "materials.export_to_xml()"
   ]
  },
  {
   "cell_type": "code",
   "execution_count": 39,
   "id": "d3eae592-3085-42c8-a636-decc2b67ecd9",
   "metadata": {},
   "outputs": [
    {
     "data": {
      "image/png": "[encoded data removed]",
      "text/plain": [
       "<IPython.core.display.Image object>"
      ]
     },
     "execution_count": 39,
     "metadata": {},
     "output_type": "execute_result"
    }
   ],
   "source": [
    "plot = openmc.Plot.from_geometry(geometry)\n",
    "plot.color_by = 'material'\n",
    "plot.colors = {\n",
    "    fuel_material: 'orange',\n",
    "    cladding: 'silver',\n",
    "    coolant: 'cyan'\n",
    "}\n",
    "plot.to_ipython_image()"
   ]
  },
  {
   "cell_type": "code",
   "execution_count": 40,
   "id": "d45ef79f-4d1b-495a-958d-d8dc2692d490",
   "metadata": {},
   "outputs": [],
   "source": [
    "settings = openmc.Settings()\n",
    "settings.particles = 1000\n",
    "settings.batches = 200\n",
    "settings.inactive = 10\n",
    "settings.source = openmc.IndependentSource(space=openmc.stats.Point())\n",
    "settings.output = {'tallies' : False}\n",
    "settings.export_to_xml()"
   ]
  },
  {
   "cell_type": "code",
   "execution_count": 41,
   "id": "466a4072-cddf-4a3f-ba29-218ff167fc6e",
   "metadata": {},
   "outputs": [],
   "source": [
    "fuel_tally = openmc.Tally()\n",
    "fuel_tally.filters = [openmc.DistribcellFilter(fuel_cell)]\n",
    "fuel_tally.scores = ['flux']\n",
    "\n",
    "tallies = openmc.Tallies([fuel_tally])\n",
    "tallies.export_to_xml()"
   ]
  },
  {
   "cell_type": "code",
   "execution_count": 42,
   "id": "49901099-d034-4f26-8c7b-cac1faad0445",
   "metadata": {},
   "outputs": [
    {
     "name": "stdout",
     "output_type": "stream",
     "text": [
      "[KAVYAs-MacBook-Air.local:47340] shmem: mmap: an error occurred while determining whether or not /var/folders/r_/4w66l1vj4tlgqqxv9j741qdr0000gn/T//ompi.KAVYAs-MacBook-Air.501/jf.0/412811264/sm_segment.KAVYAs-MacBook-Air.501.189b0000.0 could be created.\n",
      "                                %%%%%%%%%%%%%%%\n",
      "                           %%%%%%%%%%%%%%%%%%%%%%%%\n",
      "                        %%%%%%%%%%%%%%%%%%%%%%%%%%%%%%\n",
      "                      %%%%%%%%%%%%%%%%%%%%%%%%%%%%%%%%%%\n",
      "                    %%%%%%%%%%%%%%%%%%%%%%%%%%%%%%%%%%%%%%\n",
      "                   %%%%%%%%%%%%%%%%%%%%%%%%%%%%%%%%%%%%%%%%\n",
      "                                    %%%%%%%%%%%%%%%%%%%%%%%%\n",
      "                                     %%%%%%%%%%%%%%%%%%%%%%%%\n",
      "                 ###############      %%%%%%%%%%%%%%%%%%%%%%%%\n",
      "                ##################     %%%%%%%%%%%%%%%%%%%%%%%\n",
      "                ###################     %%%%%%%%%%%%%%%%%%%%%%%\n",
      "                ####################     %%%%%%%%%%%%%%%%%%%%%%\n",
      "                #####################     %%%%%%%%%%%%%%%%%%%%%\n",
      "                ######################     %%%%%%%%%%%%%%%%%%%%\n",
      "                #######################     %%%%%%%%%%%%%%%%%%\n",
      "                 #######################     %%%%%%%%%%%%%%%%%\n",
      "                 ######################     %%%%%%%%%%%%%%%%%\n",
      "                  ####################     %%%%%%%%%%%%%%%%%\n",
      "                    #################     %%%%%%%%%%%%%%%%%\n",
      "                     ###############     %%%%%%%%%%%%%%%%\n",
      "                       ############     %%%%%%%%%%%%%%%\n",
      "                          ########     %%%%%%%%%%%%%%\n",
      "                                      %%%%%%%%%%%\n",
      "\n",
      "                 | The OpenMC Monte Carlo Code\n",
      "       Copyright | 2011-2024 MIT, UChicago Argonne LLC, and contributors\n",
      "         License | https://docs.openmc.org/en/latest/license.html\n",
      "         Version | 0.15.1-dev\n",
      "        Git SHA1 | de8132a5a431660f5ff515cc7894ea0f283d3bec\n",
      "       Date/Time | 2024-12-30 01:09:22\n",
      "   MPI Processes | 1\n",
      "\n",
      " Reading settings XML file...\n",
      " Reading cross sections XML file...\n",
      " Reading materials XML file...\n",
      " Reading geometry XML file...\n",
      " Reading U235 from /Users/kavyawadhwa/openmc/mcnp_endfb70/U235.h5\n",
      " Reading U238 from /Users/kavyawadhwa/openmc/mcnp_endfb70/U238.h5\n",
      " Reading O16 from /Users/kavyawadhwa/openmc/mcnp_endfb70/O16.h5\n",
      " Reading O17 from /Users/kavyawadhwa/openmc/mcnp_endfb70/O17.h5\n",
      " Reading Zr90 from /Users/kavyawadhwa/openmc/mcnp_endfb70/Zr90.h5\n",
      " Reading Zr91 from /Users/kavyawadhwa/openmc/mcnp_endfb70/Zr91.h5\n",
      " Reading Zr92 from /Users/kavyawadhwa/openmc/mcnp_endfb70/Zr92.h5\n",
      " Reading Zr94 from /Users/kavyawadhwa/openmc/mcnp_endfb70/Zr94.h5\n",
      " Reading Zr96 from /Users/kavyawadhwa/openmc/mcnp_endfb70/Zr96.h5\n",
      " Reading H1 from /Users/kavyawadhwa/openmc/mcnp_endfb70/H1.h5\n",
      " Reading H2 from /Users/kavyawadhwa/openmc/mcnp_endfb70/H2.h5\n",
      " Minimum neutron data temperature: 294 K\n",
      " Maximum neutron data temperature: 294 K\n",
      " Reading tallies XML file...\n",
      " Preparing distributed cell instances...\n",
      " Reading plot XML file...\n",
      " Writing summary.h5 file...\n",
      " Maximum neutron transport energy: 20000000 eV for U235\n",
      " Initializing source particles...\n",
      "\n",
      " ====================>     K EIGENVALUE SIMULATION     <====================\n",
      "\n",
      "  Bat./Gen.      k            Average k\n",
      "  =========   ========   ====================\n",
      "        1/1    0.11572\n",
      "        2/1    0.08698\n",
      "        3/1    0.09871\n",
      "        4/1    0.08670\n",
      "        5/1    0.07725\n",
      "        6/1    0.09536\n",
      "        7/1    0.09507\n",
      "        8/1    0.09420\n",
      "        9/1    0.07938\n",
      "       10/1    0.10031\n",
      "       11/1    0.09280\n",
      "       12/1    0.08923    0.09102 +/- 0.00178\n",
      "       13/1    0.09074    0.09092 +/- 0.00103\n",
      "       14/1    0.08976    0.09063 +/- 0.00079\n",
      "       15/1    0.08671    0.08985 +/- 0.00099\n",
      "       16/1    0.08823    0.08958 +/- 0.00085\n",
      "       17/1    0.08561    0.08901 +/- 0.00092\n",
      "       18/1    0.09013    0.08915 +/- 0.00081\n",
      "       19/1    0.08619    0.08882 +/- 0.00078\n",
      "       20/1    0.09349    0.08929 +/- 0.00084\n",
      "       21/1    0.08351    0.08876 +/- 0.00093\n",
      "       22/1    0.10102    0.08979 +/- 0.00133\n",
      "       23/1    0.08212    0.08920 +/- 0.00135\n",
      "       24/1    0.08787    0.08910 +/- 0.00126\n",
      "       25/1    0.08892    0.08909 +/- 0.00117\n",
      "       26/1    0.08271    0.08869 +/- 0.00117\n",
      "       27/1    0.07347    0.08780 +/- 0.00141\n",
      "       28/1    0.08442    0.08761 +/- 0.00135\n",
      "       29/1    0.08000    0.08721 +/- 0.00133\n",
      "       30/1    0.08902    0.08730 +/- 0.00127\n",
      "       31/1    0.09364    0.08760 +/- 0.00124\n",
      "       32/1    0.08397    0.08744 +/- 0.00120\n",
      "       33/1    0.10590    0.08824 +/- 0.00140\n",
      "       34/1    0.09402    0.08848 +/- 0.00136\n",
      "       35/1    0.08127    0.08819 +/- 0.00134\n",
      "       36/1    0.10292    0.08876 +/- 0.00140\n",
      "       37/1    0.08411    0.08859 +/- 0.00136\n",
      "       38/1    0.07987    0.08827 +/- 0.00135\n",
      "       39/1    0.08262    0.08808 +/- 0.00132\n",
      "       40/1    0.08637    0.08802 +/- 0.00127\n",
      "       41/1    0.09685    0.08831 +/- 0.00126\n",
      "       42/1    0.08548    0.08822 +/- 0.00123\n",
      "       43/1    0.10125    0.08861 +/- 0.00125\n",
      "       44/1    0.08552    0.08852 +/- 0.00122\n",
      "       45/1    0.08769    0.08850 +/- 0.00118\n",
      "       46/1    0.09017    0.08855 +/- 0.00115\n",
      "       47/1    0.09525    0.08873 +/- 0.00113\n",
      "       48/1    0.09301    0.08884 +/- 0.00111\n",
      "       49/1    0.09618    0.08903 +/- 0.00110\n",
      "       50/1    0.07987    0.08880 +/- 0.00109\n",
      "       51/1    0.09086    0.08885 +/- 0.00107\n",
      "       52/1    0.09256    0.08894 +/- 0.00105\n",
      "       53/1    0.09826    0.08915 +/- 0.00104\n",
      "       54/1    0.07862    0.08891 +/- 0.00105\n",
      "       55/1    0.08391    0.08880 +/- 0.00103\n",
      "       56/1    0.08635    0.08875 +/- 0.00101\n",
      "       57/1    0.08997    0.08878 +/- 0.00099\n",
      "       58/1    0.09927    0.08899 +/- 0.00099\n",
      "       59/1    0.09162    0.08905 +/- 0.00097\n",
      "       60/1    0.08525    0.08897 +/- 0.00096\n",
      "       61/1    0.08771    0.08895 +/- 0.00094\n",
      "       62/1    0.09162    0.08900 +/- 0.00092\n",
      "       63/1    0.08013    0.08883 +/- 0.00092\n",
      "       64/1    0.08569    0.08877 +/- 0.00090\n",
      "       65/1    0.09400    0.08887 +/- 0.00089\n",
      "       66/1    0.09055    0.08890 +/- 0.00088\n",
      "       67/1    0.09108    0.08894 +/- 0.00086\n",
      "       68/1    0.08871    0.08893 +/- 0.00085\n",
      "       69/1    0.08609    0.08888 +/- 0.00083\n",
      "       70/1    0.10724    0.08919 +/- 0.00087\n",
      "       71/1    0.08031    0.08904 +/- 0.00087\n",
      "       72/1    0.08963    0.08905 +/- 0.00086\n",
      "       73/1    0.08663    0.08902 +/- 0.00084\n",
      "       74/1    0.08069    0.08889 +/- 0.00084\n",
      "       75/1    0.09979    0.08905 +/- 0.00085\n",
      "       76/1    0.08575    0.08900 +/- 0.00083\n",
      "       77/1    0.09476    0.08909 +/- 0.00083\n",
      "       78/1    0.09030    0.08911 +/- 0.00081\n",
      "       79/1    0.08206    0.08900 +/- 0.00081\n",
      "       80/1    0.08036    0.08888 +/- 0.00081\n",
      "       81/1    0.08501    0.08883 +/- 0.00080\n",
      "       82/1    0.08833    0.08882 +/- 0.00079\n",
      "       83/1    0.08357    0.08875 +/- 0.00078\n",
      "       84/1    0.08122    0.08865 +/- 0.00077\n",
      "       85/1    0.08323    0.08857 +/- 0.00077\n",
      "       86/1    0.09626    0.08868 +/- 0.00076\n",
      "       87/1    0.08113    0.08858 +/- 0.00076\n",
      "       88/1    0.08755    0.08856 +/- 0.00075\n",
      "       89/1    0.08501    0.08852 +/- 0.00074\n",
      "       90/1    0.08918    0.08853 +/- 0.00073\n",
      "       91/1    0.09788    0.08864 +/- 0.00073\n",
      "       92/1    0.09482    0.08872 +/- 0.00073\n",
      "       93/1    0.07819    0.08859 +/- 0.00073\n",
      "       94/1    0.07764    0.08846 +/- 0.00073\n",
      "       95/1    0.08328    0.08840 +/- 0.00073\n",
      "       96/1    0.09162    0.08844 +/- 0.00072\n",
      "       97/1    0.09418    0.08850 +/- 0.00071\n",
      "       98/1    0.08322    0.08844 +/- 0.00071\n",
      "       99/1    0.08043    0.08835 +/- 0.00071\n",
      "      100/1    0.08007    0.08826 +/- 0.00070\n",
      "      101/1    0.09765    0.08836 +/- 0.00070\n",
      "      102/1    0.08817    0.08836 +/- 0.00070\n",
      "      103/1    0.08308    0.08831 +/- 0.00069\n",
      "      104/1    0.10250    0.08846 +/- 0.00070\n",
      "      105/1    0.08609    0.08843 +/- 0.00069\n",
      "      106/1    0.08606    0.08841 +/- 0.00069\n",
      "      107/1    0.08351    0.08836 +/- 0.00068\n",
      "      108/1    0.08068    0.08828 +/- 0.00068\n",
      "      109/1    0.08647    0.08826 +/- 0.00067\n",
      "      110/1    0.08162    0.08819 +/- 0.00067\n",
      "      111/1    0.07785    0.08809 +/- 0.00067\n",
      "      112/1    0.07775    0.08799 +/- 0.00067\n",
      "      113/1    0.08694    0.08798 +/- 0.00066\n",
      "      114/1    0.08366    0.08794 +/- 0.00066\n",
      "      115/1    0.08797    0.08794 +/- 0.00065\n",
      "      116/1    0.09178    0.08797 +/- 0.00065\n",
      "      117/1    0.08080    0.08791 +/- 0.00065\n",
      "      118/1    0.07677    0.08780 +/- 0.00065\n",
      "      119/1    0.09967    0.08791 +/- 0.00065\n",
      "      120/1    0.08968    0.08793 +/- 0.00065\n",
      "      121/1    0.08470    0.08790 +/- 0.00064\n",
      "      122/1    0.08092    0.08784 +/- 0.00064\n",
      "      123/1    0.08906    0.08785 +/- 0.00063\n",
      "      124/1    0.09019    0.08787 +/- 0.00063\n",
      "      125/1    0.08400    0.08784 +/- 0.00062\n",
      "      126/1    0.09798    0.08792 +/- 0.00062\n",
      "      127/1    0.08443    0.08789 +/- 0.00062\n",
      "      128/1    0.10212    0.08801 +/- 0.00062\n",
      "      129/1    0.09333    0.08806 +/- 0.00062\n",
      "      130/1    0.09287    0.08810 +/- 0.00062\n",
      "      131/1    0.08415    0.08807 +/- 0.00061\n",
      "      132/1    0.10248    0.08818 +/- 0.00062\n",
      "      133/1    0.07933    0.08811 +/- 0.00062\n",
      "      134/1    0.09656    0.08818 +/- 0.00062\n",
      "      135/1    0.08596    0.08816 +/- 0.00061\n",
      "      136/1    0.09137    0.08819 +/- 0.00061\n",
      "      137/1    0.07937    0.08812 +/- 0.00061\n",
      "      138/1    0.10002    0.08821 +/- 0.00061\n",
      "      139/1    0.10787    0.08836 +/- 0.00062\n",
      "      140/1    0.08703    0.08835 +/- 0.00062\n",
      "      141/1    0.09491    0.08840 +/- 0.00062\n",
      "      142/1    0.08929    0.08841 +/- 0.00061\n",
      "      143/1    0.09319    0.08845 +/- 0.00061\n",
      "      144/1    0.08942    0.08845 +/- 0.00060\n",
      "      145/1    0.08363    0.08842 +/- 0.00060\n",
      "      146/1    0.08360    0.08838 +/- 0.00060\n",
      "      147/1    0.10387    0.08850 +/- 0.00060\n",
      "      148/1    0.08754    0.08849 +/- 0.00060\n",
      "      149/1    0.08403    0.08846 +/- 0.00060\n",
      "      150/1    0.09551    0.08851 +/- 0.00059\n",
      "      151/1    0.08321    0.08847 +/- 0.00059\n",
      "      152/1    0.07602    0.08838 +/- 0.00059\n",
      "      153/1    0.08891    0.08839 +/- 0.00059\n",
      "      154/1    0.08639    0.08837 +/- 0.00058\n",
      "      155/1    0.08357    0.08834 +/- 0.00058\n",
      "      156/1    0.09350    0.08837 +/- 0.00058\n",
      "      157/1    0.07389    0.08828 +/- 0.00058\n",
      "      158/1    0.08760    0.08827 +/- 0.00058\n",
      "      159/1    0.08878    0.08827 +/- 0.00058\n",
      "      160/1    0.08712    0.08827 +/- 0.00057\n",
      "      161/1    0.09777    0.08833 +/- 0.00057\n",
      "      162/1    0.09886    0.08840 +/- 0.00057\n",
      "      163/1    0.08626    0.08838 +/- 0.00057\n",
      "      164/1    0.09839    0.08845 +/- 0.00057\n",
      "      165/1    0.08354    0.08842 +/- 0.00057\n",
      "      166/1    0.10149    0.08850 +/- 0.00057\n",
      "      167/1    0.08427    0.08847 +/- 0.00056\n",
      "      168/1    0.07737    0.08840 +/- 0.00057\n",
      "      169/1    0.09213    0.08843 +/- 0.00056\n",
      "      170/1    0.10444    0.08853 +/- 0.00057\n",
      "      171/1    0.08136    0.08848 +/- 0.00057\n",
      "      172/1    0.09990    0.08855 +/- 0.00057\n",
      "      173/1    0.09957    0.08862 +/- 0.00057\n",
      "      174/1    0.08186    0.08858 +/- 0.00057\n",
      "      175/1    0.08266    0.08854 +/- 0.00056\n",
      "      176/1    0.07733    0.08848 +/- 0.00056\n",
      "      177/1    0.08954    0.08848 +/- 0.00056\n",
      "      178/1    0.07587    0.08841 +/- 0.00056\n",
      "      179/1    0.09258    0.08843 +/- 0.00056\n",
      "      180/1    0.09413    0.08847 +/- 0.00056\n",
      "      181/1    0.08876    0.08847 +/- 0.00055\n",
      "      182/1    0.08630    0.08846 +/- 0.00055\n",
      "      183/1    0.08306    0.08842 +/- 0.00055\n",
      "      184/1    0.09325    0.08845 +/- 0.00055\n",
      "      185/1    0.08351    0.08842 +/- 0.00054\n",
      "      186/1    0.09221    0.08845 +/- 0.00054\n",
      "      187/1    0.09017    0.08846 +/- 0.00054\n",
      "      188/1    0.07525    0.08838 +/- 0.00054\n",
      "      189/1    0.08220    0.08835 +/- 0.00054\n",
      "      190/1    0.09094    0.08836 +/- 0.00054\n",
      "      191/1    0.08175    0.08832 +/- 0.00053\n",
      "      192/1    0.07950    0.08828 +/- 0.00053\n",
      "      193/1    0.07986    0.08823 +/- 0.00053\n",
      "      194/1    0.07904    0.08818 +/- 0.00053\n",
      "      195/1    0.08639    0.08817 +/- 0.00053\n",
      "      196/1    0.08319    0.08814 +/- 0.00053\n",
      "      197/1    0.08000    0.08810 +/- 0.00053\n",
      "      198/1    0.09534    0.08814 +/- 0.00052\n",
      "      199/1    0.08303    0.08811 +/- 0.00052\n",
      "      200/1    0.08816    0.08811 +/- 0.00052\n",
      " Creating state point statepoint.200.h5...\n",
      "\n",
      " =======================>     TIMING STATISTICS     <=======================\n",
      "\n",
      " Total time for initialization     = 3.0746e-01 seconds\n",
      "   Reading cross sections          = 2.8336e-01 seconds\n",
      " Total time in simulation          = 1.5610e+00 seconds\n",
      "   Time in transport only          = 1.5551e+00 seconds\n",
      "   Time in inactive batches        = 7.7755e-02 seconds\n",
      "   Time in active batches          = 1.4832e+00 seconds\n",
      "   Time synchronizing fission bank = 2.8138e-03 seconds\n",
      "     Sampling source sites         = 2.4354e-03 seconds\n",
      "     SEND/RECV source sites        = 3.4883e-04 seconds\n",
      "   Time accumulating tallies       = 2.2705e-05 seconds\n",
      "   Time writing statepoints        = 1.4397e-03 seconds\n",
      " Total time for finalization       = 1.2000e-05 seconds\n",
      " Total time elapsed                = 1.8703e+00 seconds\n",
      " Calculation Rate (inactive)       = 128609 particles/second\n",
      " Calculation Rate (active)         = 128100 particles/second\n",
      "\n",
      " ============================>     RESULTS     <============================\n",
      "\n",
      " k-effective (Collision)     = 0.08824 +/- 0.00053\n",
      " k-effective (Track-length)  = 0.08811 +/- 0.00052\n",
      " k-effective (Absorption)    = 0.08633 +/- 0.00098\n",
      " Combined k-effective        = 0.08791 +/- 0.00049\n",
      " Leakage Fraction            = 0.91242 +/- 0.00068\n",
      "\n"
     ]
    }
   ],
   "source": [
    "openmc.run(output=True)"
   ]
  },
  {
   "cell_type": "code",
   "execution_count": null,
   "id": "6a31b569-0b58-405f-9d64-2fc299508bfd",
   "metadata": {},
   "outputs": [],
   "source": []
  },
  {
   "cell_type": "code",
   "execution_count": null,
   "id": "941353cb-b6b4-409e-a134-3aedc8acb8f8",
   "metadata": {},
   "outputs": [],
   "source": []
  }
 ],
 "metadata": {
  "kernelspec": {
   "display_name": "Python (openmc)",
   "language": "python",
   "name": "openmc"
  },
  "language_info": {
   "codemirror_mode": {
    "name": "ipython",
    "version": 3
   },
   "file_extension": ".py",
   "mimetype": "text/x-python",
   "name": "python",
   "nbconvert_exporter": "python",
   "pygments_lexer": "ipython3",
   "version": "3.13.1"
  }
 },
 "nbformat": 4,
 "nbformat_minor": 5
}
