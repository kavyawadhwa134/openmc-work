{
 "cells": [
  {
   "cell_type": "code",
   "execution_count": 1,
   "id": "924b70e2-9d62-4e8b-b524-292b638ce960",
   "metadata": {},
   "outputs": [],
   "source": [
    "%matplotlib inline\n",
    "from math import pi, sin, cos\n",
    "import numpy as np\n",
    "import openmc"
   ]
  },
  {
   "cell_type": "code",
   "execution_count": 2,
   "id": "29722e4e-5e1f-4c7d-b3f8-1793039fa42e",
   "metadata": {},
   "outputs": [],
   "source": [
    "fuel_material = openmc.Material(name=\"Natural UO2 Fuel\")\n",
    "fuel_material.add_nuclide('U235', 0.0079)  \n",
    "fuel_material.add_nuclide('U238', 0.9921) \n",
    "fuel_material.add_element('O', 2)\n",
    "fuel_material.set_density('g/cm3', 10.5)"
   ]
  },
  {
   "cell_type": "code",
   "execution_count": 3,
   "id": "c6764d4e-d102-4799-aef3-f879a08225d4",
   "metadata": {},
   "outputs": [],
   "source": [
    "cladding = openmc.Material(name=\"Zirconium Cladding\")\n",
    "cladding.add_element('Zr', 1)\n",
    "cladding.set_density('g/cm3', 6.55)  "
   ]
  },
  {
   "cell_type": "code",
   "execution_count": 4,
   "id": "ac724aab-0606-4974-b920-361432ae9527",
   "metadata": {},
   "outputs": [],
   "source": [
    "coolant = openmc.Material(name=\"Heavy Water (D2O)\")\n",
    "coolant.add_element('H', 2)  \n",
    "coolant.add_element('O', 1)\n",
    "coolant.set_density('g/cm3', 1.11)  "
   ]
  },
  {
   "cell_type": "code",
   "execution_count": 5,
   "id": "19aabad0-4568-4c90-a932-79298883a43d",
   "metadata": {},
   "outputs": [],
   "source": [
    "# Outer radius of fuel and clad\n",
    "r_fuel = 0.6122\n",
    "r_clad = 0.6540\n",
    "\n",
    "# Pressure tube and calendria radii\n",
    "pressure_tube_ir = 5.16890\n",
    "pressure_tube_or = 5.60320\n",
    "calendria_ir = 6.44780\n",
    "calendria_or = 6.58750\n",
    "\n",
    "# Radius to center of each ring of fuel pins\n",
    "ring_radii = np.array([0.0, 1.4885, 2.8755, 4.3305])"
   ]
  },
  {
   "cell_type": "code",
   "execution_count": 6,
   "id": "be8ac16d-877b-4ca0-bf83-ec00869e95a2",
   "metadata": {},
   "outputs": [],
   "source": [
    "# These are the surfaces that will divide each of the rings\n",
    "radial_surf = [openmc.ZCylinder(r=r) for r in\n",
    "               (ring_radii[:-1] + ring_radii[1:])/2]\n",
    "\n",
    "water_cells = []\n",
    "for i in range(ring_radii.size):\n",
    "    # Create annular region\n",
    "    if i == 0:\n",
    "        water_region = -radial_surf[i]\n",
    "    elif i == ring_radii.size - 1:\n",
    "        water_region = +radial_surf[i-1]\n",
    "    else:\n",
    "        water_region = +radial_surf[i-1] & -radial_surf[i]\n",
    "        \n",
    "    water_cells.append(openmc.Cell(fill=coolant, region=water_region))"
   ]
  },
  {
   "cell_type": "code",
   "execution_count": 7,
   "id": "23fcc23e-5b89-43e7-bf5c-fe11f0d7b0a9",
   "metadata": {},
   "outputs": [
    {
     "data": {
      "text/plain": [
       "<Axes: xlabel='x [cm]', ylabel='y [cm]'>"
      ]
     },
     "execution_count": 7,
     "metadata": {},
     "output_type": "execute_result"
    },
    {
     "data": {
      "image/png": "[encoded data removed]",
      "text/plain": [
       "<Figure size 258.065x259.74 with 1 Axes>"
      ]
     },
     "metadata": {},
     "output_type": "display_data"
    }
   ],
   "source": [
    "plot_args = {'width': (11,11)}#(2*calendria_or, 2*calendria_or)}\n",
    "bundle_universe = openmc.Universe(cells=water_cells)\n",
    "bundle_universe.plot(**plot_args)"
   ]
  },
  {
   "cell_type": "code",
   "execution_count": 8,
   "id": "c508a603-1a93-4c5f-940b-ba83153a9d93",
   "metadata": {},
   "outputs": [],
   "source": [
    "surf_fuel = openmc.ZCylinder(r=r_fuel)\n",
    "\n",
    "fuel_cell = openmc.Cell(fill=fuel_material, region=-surf_fuel)\n",
    "clad_cell = openmc.Cell(fill=cladding, region=+surf_fuel)\n",
    "\n",
    "pin_universe = openmc.Universe(cells=(fuel_cell, clad_cell))"
   ]
  },
  {
   "cell_type": "code",
   "execution_count": 9,
   "id": "afa60a07-a854-4e9e-ba7f-251a7bd7119a",
   "metadata": {},
   "outputs": [
    {
     "data": {
      "text/plain": [
       "<Axes: xlabel='x [cm]', ylabel='y [cm]'>"
      ]
     },
     "execution_count": 9,
     "metadata": {},
     "output_type": "execute_result"
    },
    {
     "data": {
      "image/png": "[encoded data removed]",
      "text/plain": [
       "<Figure size 258.065x259.74 with 1 Axes>"
      ]
     },
     "metadata": {},
     "output_type": "display_data"
    }
   ],
   "source": [
    "pin_universe.plot(**plot_args)"
   ]
  },
  {
   "cell_type": "code",
   "execution_count": 10,
   "id": "ea4ced4f-7f23-4771-8cd4-d6f538803180",
   "metadata": {},
   "outputs": [],
   "source": [
    "num_pins = [1, 6, 12,18]\n",
    "angles = [0, 0, 15,0]\n",
    "\n",
    "for i, (r, n, a) in enumerate(zip(ring_radii, num_pins, angles)):\n",
    "    for j in range(n):\n",
    "        # Determine location of center of pin\n",
    "        theta = (a + j/n*360.) * pi/180.\n",
    "        x = r*cos(theta)\n",
    "        y = r*sin(theta)\n",
    "        \n",
    "        pin_boundary = openmc.ZCylinder(x0=x, y0=y, r=r_clad)\n",
    "        water_cells[i].region &= +pin_boundary\n",
    "        \n",
    "        # Create each fuel pin -- note that we explicitly assign an ID so \n",
    "        # that we can identify the pin later when looking at tallies\n",
    "        pin = openmc.Cell(fill=pin_universe, region=-pin_boundary)\n",
    "        pin.translation = (x, y, 0)\n",
    "        pin.id = (i + 1)*100 + j\n",
    "        bundle_universe.add_cell(pin)"
   ]
  },
  {
   "cell_type": "code",
   "execution_count": 83,
   "id": "4d4a7fdb-74f3-4634-ba17-c1a898933c16",
   "metadata": {},
   "outputs": [
    {
     "data": {
      "text/plain": [
       "<Axes: xlabel='x [cm]', ylabel='y [cm]'>"
      ]
     },
     "execution_count": 83,
     "metadata": {},
     "output_type": "execute_result"
    },
    {
     "data": {
      "image/png": "[encoded data removed]",
      "text/plain": [
       "<Figure size 258.065x259.74 with 1 Axes>"
      ]
     },
     "metadata": {},
     "output_type": "display_data"
    }
   ],
   "source": [
    "bundle_universe.plot(**plot_args)"
   ]
  },
  {
   "cell_type": "code",
   "execution_count": 23,
   "id": "5e19b316-d095-4c9e-93e2-7375f1df7df6",
   "metadata": {},
   "outputs": [],
   "source": [
    "pt_inner = openmc.ZCylinder(r=pressure_tube_ir, boundary_type='reflective')\n",
    "pt_outer = openmc.ZCylinder(r=pressure_tube_or, boundary_type='reflective')\n",
    "calendria_inner = openmc.ZCylinder(r=calendria_ir, boundary_type='reflective')\n",
    "calendria_outer = openmc.ZCylinder(r=calendria_or, boundary_type='reflective')\n",
    "\n",
    "bundle = openmc.Cell(fill=bundle_universe, region=-pt_inner)\n",
    "pressure_tube = openmc.Cell(fill=cladding, region=+pt_inner & -pt_outer)\n",
    "v1 = openmc.Cell(region=+pt_outer & -calendria_inner)\n",
    "calendria = openmc.Cell(fill=cladding, region=+calendria_inner & -calendria_outer)\n",
    "\n",
    "root_universe = openmc.Universe(cells=[bundle, pressure_tube, v1, calendria])"
   ]
  },
  {
   "cell_type": "code",
   "execution_count": 24,
   "id": "7cb12693-8600-4157-9fe9-87d7a87d2a80",
   "metadata": {},
   "outputs": [],
   "source": [
    "geometry = openmc.Geometry(root_universe)\n",
    "geometry.export_to_xml()\n",
    "\n",
    "materials = openmc.Materials(geometry.get_all_materials().values())\n",
    "materials.export_to_xml()"
   ]
  },
  {
   "cell_type": "code",
   "execution_count": 25,
   "id": "d3eae592-3085-42c8-a636-decc2b67ecd9",
   "metadata": {},
   "outputs": [
    {
     "data": {
      "image/png": "[encoded data removed]",
      "text/plain": [
       "<IPython.core.display.Image object>"
      ]
     },
     "execution_count": 25,
     "metadata": {},
     "output_type": "execute_result"
    }
   ],
   "source": [
    "plot = openmc.Plot.from_geometry(geometry)\n",
    "plot.color_by = 'material'\n",
    "plot.colors = {\n",
    "    fuel_material: 'orange',\n",
    "    cladding: 'silver',\n",
    "    coolant: 'cyan'\n",
    "}\n",
    "plot.to_ipython_image()"
   ]
  },
  {
   "cell_type": "code",
   "execution_count": 26,
   "id": "d45ef79f-4d1b-495a-958d-d8dc2692d490",
   "metadata": {},
   "outputs": [],
   "source": [
    "settings = openmc.Settings()\n",
    "settings.particles = 1000\n",
    "settings.batches = 200\n",
    "settings.inactive = 10\n",
    "settings.source = openmc.IndependentSource(space=openmc.stats.Point())\n",
    "settings.output = {'tallies' : False}\n",
    "settings.export_to_xml()"
   ]
  },
  {
   "cell_type": "code",
   "execution_count": 27,
   "id": "466a4072-cddf-4a3f-ba29-218ff167fc6e",
   "metadata": {},
   "outputs": [],
   "source": [
    "fuel_tally = openmc.Tally()\n",
    "fuel_tally.filters = [openmc.DistribcellFilter(fuel_cell)]\n",
    "fuel_tally.scores = ['flux']\n",
    "\n",
    "tallies = openmc.Tallies([fuel_tally])\n",
    "tallies.export_to_xml()"
   ]
  },
  {
   "cell_type": "code",
   "execution_count": 28,
   "id": "49901099-d034-4f26-8c7b-cac1faad0445",
   "metadata": {},
   "outputs": [
    {
     "name": "stdout",
     "output_type": "stream",
     "text": [
      "[KAVYAs-MacBook-Air.local:56084] shmem: mmap: an error occurred while determining whether or not /var/folders/r_/4w66l1vj4tlgqqxv9j741qdr0000gn/T//ompi.KAVYAs-MacBook-Air.501/jf.0/2361917440/sm_segment.KAVYAs-MacBook-Air.501.8cc80000.0 could be created.\n",
      "                                %%%%%%%%%%%%%%%\n",
      "                           %%%%%%%%%%%%%%%%%%%%%%%%\n",
      "                        %%%%%%%%%%%%%%%%%%%%%%%%%%%%%%\n",
      "                      %%%%%%%%%%%%%%%%%%%%%%%%%%%%%%%%%%\n",
      "                    %%%%%%%%%%%%%%%%%%%%%%%%%%%%%%%%%%%%%%\n",
      "                   %%%%%%%%%%%%%%%%%%%%%%%%%%%%%%%%%%%%%%%%\n",
      "                                    %%%%%%%%%%%%%%%%%%%%%%%%\n",
      "                                     %%%%%%%%%%%%%%%%%%%%%%%%\n",
      "                 ###############      %%%%%%%%%%%%%%%%%%%%%%%%\n",
      "                ##################     %%%%%%%%%%%%%%%%%%%%%%%\n",
      "                ###################     %%%%%%%%%%%%%%%%%%%%%%%\n",
      "                ####################     %%%%%%%%%%%%%%%%%%%%%%\n",
      "                #####################     %%%%%%%%%%%%%%%%%%%%%\n",
      "                ######################     %%%%%%%%%%%%%%%%%%%%\n",
      "                #######################     %%%%%%%%%%%%%%%%%%\n",
      "                 #######################     %%%%%%%%%%%%%%%%%\n",
      "                 ######################     %%%%%%%%%%%%%%%%%\n",
      "                  ####################     %%%%%%%%%%%%%%%%%\n",
      "                    #################     %%%%%%%%%%%%%%%%%\n",
      "                     ###############     %%%%%%%%%%%%%%%%\n",
      "                       ############     %%%%%%%%%%%%%%%\n",
      "                          ########     %%%%%%%%%%%%%%\n",
      "                                      %%%%%%%%%%%\n",
      "\n",
      "                 | The OpenMC Monte Carlo Code\n",
      "       Copyright | 2011-2024 MIT, UChicago Argonne LLC, and contributors\n",
      "         License | https://docs.openmc.org/en/latest/license.html\n",
      "         Version | 0.15.1-dev\n",
      "        Git SHA1 | de8132a5a431660f5ff515cc7894ea0f283d3bec\n",
      "       Date/Time | 2025-01-02 01:20:27\n",
      "   MPI Processes | 1\n",
      "\n",
      " Reading settings XML file...\n",
      " Reading cross sections XML file...\n",
      " Reading materials XML file...\n",
      " Reading geometry XML file...\n",
      " Reading U235 from /Users/kavyawadhwa/openmc/mcnp_endfb70/U235.h5\n",
      " Reading U238 from /Users/kavyawadhwa/openmc/mcnp_endfb70/U238.h5\n",
      " Reading O16 from /Users/kavyawadhwa/openmc/mcnp_endfb70/O16.h5\n",
      " Reading O17 from /Users/kavyawadhwa/openmc/mcnp_endfb70/O17.h5\n",
      " Reading Zr90 from /Users/kavyawadhwa/openmc/mcnp_endfb70/Zr90.h5\n",
      " Reading Zr91 from /Users/kavyawadhwa/openmc/mcnp_endfb70/Zr91.h5\n",
      " Reading Zr92 from /Users/kavyawadhwa/openmc/mcnp_endfb70/Zr92.h5\n",
      " Reading Zr94 from /Users/kavyawadhwa/openmc/mcnp_endfb70/Zr94.h5\n",
      " Reading Zr96 from /Users/kavyawadhwa/openmc/mcnp_endfb70/Zr96.h5\n",
      " Reading H1 from /Users/kavyawadhwa/openmc/mcnp_endfb70/H1.h5\n",
      " Reading H2 from /Users/kavyawadhwa/openmc/mcnp_endfb70/H2.h5\n",
      " Minimum neutron data temperature: 294 K\n",
      " Maximum neutron data temperature: 294 K\n",
      " Reading tallies XML file...\n",
      " Preparing distributed cell instances...\n",
      " Reading plot XML file...\n",
      " Writing summary.h5 file...\n",
      " Maximum neutron transport energy: 20000000 eV for U235\n",
      " Initializing source particles...\n",
      "\n",
      " ====================>     K EIGENVALUE SIMULATION     <====================\n",
      "\n",
      "  Bat./Gen.      k            Average k\n",
      "  =========   ========   ====================\n",
      "        1/1    0.98859\n",
      "        2/1    0.95414\n",
      "        3/1    0.95082\n",
      "        4/1    0.92438\n",
      "        5/1    0.98671\n",
      "        6/1    0.94015\n",
      "        7/1    0.97020\n",
      "        8/1    0.89861\n",
      "        9/1    0.88807\n",
      "       10/1    1.04404\n",
      "       11/1    1.05979\n",
      "       12/1    0.91175    0.98577 +/- 0.07402\n",
      "       13/1    0.98529    0.98561 +/- 0.04274\n",
      "       14/1    0.93823    0.97377 +/- 0.03246\n",
      "       15/1    0.93983    0.96698 +/- 0.02604\n",
      "       16/1    0.95677    0.96528 +/- 0.02133\n",
      "       17/1    0.96166    0.96476 +/- 0.01804\n",
      "       18/1    0.96223    0.96444 +/- 0.01562\n",
      "       19/1    0.95621    0.96353 +/- 0.01381\n",
      "       20/1    1.00057    0.96723 +/- 0.01289\n",
      "       21/1    0.95730    0.96633 +/- 0.01170\n",
      "       22/1    0.99650    0.96884 +/- 0.01097\n",
      "       23/1    0.94917    0.96733 +/- 0.01020\n",
      "       24/1    0.98682    0.96872 +/- 0.00955\n",
      "       25/1    0.94981    0.96746 +/- 0.00898\n",
      "       26/1    0.89245    0.96277 +/- 0.00962\n",
      "       27/1    0.95590    0.96237 +/- 0.00904\n",
      "       28/1    0.98617    0.96369 +/- 0.00863\n",
      "       29/1    0.97770    0.96443 +/- 0.00820\n",
      "       30/1    0.96510    0.96446 +/- 0.00777\n",
      "       31/1    0.88092    0.96048 +/- 0.00840\n",
      "       32/1    0.89800    0.95764 +/- 0.00850\n",
      "       33/1    0.90986    0.95557 +/- 0.00838\n",
      "       34/1    0.99535    0.95722 +/- 0.00819\n",
      "       35/1    0.94321    0.95666 +/- 0.00788\n",
      "       36/1    0.91276    0.95497 +/- 0.00775\n",
      "       37/1    0.91776    0.95360 +/- 0.00759\n",
      "       38/1    0.95719    0.95373 +/- 0.00731\n",
      "       39/1    0.95737    0.95385 +/- 0.00706\n",
      "       40/1    0.97552    0.95457 +/- 0.00686\n",
      "       41/1    0.94518    0.95427 +/- 0.00664\n",
      "       42/1    0.98809    0.95533 +/- 0.00651\n",
      "       43/1    0.92110    0.95429 +/- 0.00640\n",
      "       44/1    0.93516    0.95373 +/- 0.00623\n",
      "       45/1    0.95336    0.95372 +/- 0.00605\n",
      "       46/1    0.98224    0.95451 +/- 0.00593\n",
      "       47/1    0.98096    0.95522 +/- 0.00582\n",
      "       48/1    0.96182    0.95540 +/- 0.00566\n",
      "       49/1    0.96495    0.95564 +/- 0.00552\n",
      "       50/1    0.96712    0.95593 +/- 0.00539\n",
      "       51/1    0.94381    0.95563 +/- 0.00527\n",
      "       52/1    0.99461    0.95656 +/- 0.00522\n",
      "       53/1    0.97838    0.95707 +/- 0.00512\n",
      "       54/1    0.92759    0.95640 +/- 0.00505\n",
      "       55/1    0.99481    0.95725 +/- 0.00501\n",
      "       56/1    0.98528    0.95786 +/- 0.00494\n",
      "       57/1    1.01848    0.95915 +/- 0.00500\n",
      "       58/1    0.95227    0.95901 +/- 0.00490\n",
      "       59/1    1.01396    0.96013 +/- 0.00493\n",
      "       60/1    0.98266    0.96058 +/- 0.00485\n",
      "       61/1    1.00224    0.96140 +/- 0.00482\n",
      "       62/1    0.98181    0.96179 +/- 0.00474\n",
      "       63/1    0.96023    0.96176 +/- 0.00465\n",
      "       64/1    0.93132    0.96120 +/- 0.00460\n",
      "       65/1    0.95486    0.96108 +/- 0.00452\n",
      "       66/1    0.97904    0.96140 +/- 0.00445\n",
      "       67/1    1.05908    0.96312 +/- 0.00469\n",
      "       68/1    1.02019    0.96410 +/- 0.00472\n",
      "       69/1    0.92230    0.96339 +/- 0.00469\n",
      "       70/1    0.90842    0.96248 +/- 0.00470\n",
      "       71/1    1.00284    0.96314 +/- 0.00467\n",
      "       72/1    0.94310    0.96281 +/- 0.00461\n",
      "       73/1    1.03295    0.96393 +/- 0.00467\n",
      "       74/1    0.93968    0.96355 +/- 0.00461\n",
      "       75/1    0.95904    0.96348 +/- 0.00454\n",
      "       76/1    0.95842    0.96340 +/- 0.00447\n",
      "       77/1    0.96412    0.96341 +/- 0.00440\n",
      "       78/1    0.94133    0.96309 +/- 0.00435\n",
      "       79/1    0.95094    0.96291 +/- 0.00429\n",
      "       80/1    1.01232    0.96362 +/- 0.00429\n",
      "       81/1    0.98499    0.96392 +/- 0.00424\n",
      "       82/1    0.89852    0.96301 +/- 0.00427\n",
      "       83/1    0.96795    0.96308 +/- 0.00422\n",
      "       84/1    0.98159    0.96333 +/- 0.00417\n",
      "       85/1    0.95242    0.96318 +/- 0.00411\n",
      "       86/1    0.98968    0.96353 +/- 0.00407\n",
      "       87/1    0.94146    0.96325 +/- 0.00403\n",
      "       88/1    0.96511    0.96327 +/- 0.00398\n",
      "       89/1    0.98022    0.96348 +/- 0.00393\n",
      "       90/1    1.02535    0.96426 +/- 0.00396\n",
      "       91/1    0.92913    0.96382 +/- 0.00393\n",
      "       92/1    0.93447    0.96347 +/- 0.00390\n",
      "       93/1    1.03585    0.96434 +/- 0.00395\n",
      "       94/1    0.90425    0.96362 +/- 0.00397\n",
      "       95/1    0.90707    0.96296 +/- 0.00398\n",
      "       96/1    0.97020    0.96304 +/- 0.00393\n",
      "       97/1    1.04258    0.96396 +/- 0.00399\n",
      "       98/1    0.97035    0.96403 +/- 0.00395\n",
      "       99/1    1.01392    0.96459 +/- 0.00394\n",
      "      100/1    1.00049    0.96499 +/- 0.00392\n",
      "      101/1    0.91276    0.96441 +/- 0.00392\n",
      "      102/1    0.99377    0.96473 +/- 0.00389\n",
      "      103/1    0.91589    0.96421 +/- 0.00388\n",
      "      104/1    1.02375    0.96484 +/- 0.00389\n",
      "      105/1    0.95851    0.96477 +/- 0.00385\n",
      "      106/1    1.01256    0.96527 +/- 0.00385\n",
      "      107/1    0.99324    0.96556 +/- 0.00382\n",
      "      108/1    0.93984    0.96530 +/- 0.00379\n",
      "      109/1    0.99106    0.96556 +/- 0.00376\n",
      "      110/1    1.03633    0.96627 +/- 0.00379\n",
      "      111/1    0.93012    0.96591 +/- 0.00377\n",
      "      112/1    0.93880    0.96564 +/- 0.00374\n",
      "      113/1    0.95372    0.96553 +/- 0.00370\n",
      "      114/1    0.97039    0.96557 +/- 0.00367\n",
      "      115/1    0.94678    0.96539 +/- 0.00364\n",
      "      116/1    0.96017    0.96534 +/- 0.00360\n",
      "      117/1    0.94344    0.96514 +/- 0.00357\n",
      "      118/1    0.99674    0.96543 +/- 0.00355\n",
      "      119/1    1.00503    0.96580 +/- 0.00354\n",
      "      120/1    0.97808    0.96591 +/- 0.00351\n",
      "      121/1    0.96022    0.96586 +/- 0.00348\n",
      "      122/1    0.96690    0.96587 +/- 0.00345\n",
      "      123/1    0.96355    0.96584 +/- 0.00342\n",
      "      124/1    0.98404    0.96600 +/- 0.00339\n",
      "      125/1    0.85577    0.96505 +/- 0.00349\n",
      "      126/1    0.96416    0.96504 +/- 0.00346\n",
      "      127/1    1.00945    0.96542 +/- 0.00346\n",
      "      128/1    0.97418    0.96549 +/- 0.00343\n",
      "      129/1    0.95749    0.96542 +/- 0.00340\n",
      "      130/1    0.91636    0.96502 +/- 0.00339\n",
      "      131/1    0.91588    0.96461 +/- 0.00339\n",
      "      132/1    0.92316    0.96427 +/- 0.00338\n",
      "      133/1    0.92070    0.96392 +/- 0.00337\n",
      "      134/1    1.00300    0.96423 +/- 0.00336\n",
      "      135/1    1.02796    0.96474 +/- 0.00337\n",
      "      136/1    0.94936    0.96462 +/- 0.00335\n",
      "      137/1    0.94949    0.96450 +/- 0.00332\n",
      "      138/1    0.96404    0.96450 +/- 0.00330\n",
      "      139/1    0.95957    0.96446 +/- 0.00327\n",
      "      140/1    0.95742    0.96440 +/- 0.00325\n",
      "      141/1    0.91662    0.96404 +/- 0.00324\n",
      "      142/1    0.94645    0.96391 +/- 0.00322\n",
      "      143/1    0.87648    0.96325 +/- 0.00326\n",
      "      144/1    1.00993    0.96360 +/- 0.00326\n",
      "      145/1    0.94495    0.96346 +/- 0.00323\n",
      "      146/1    0.98351    0.96361 +/- 0.00321\n",
      "      147/1    0.94327    0.96346 +/- 0.00319\n",
      "      148/1    0.97259    0.96352 +/- 0.00317\n",
      "      149/1    0.90771    0.96312 +/- 0.00317\n",
      "      150/1    0.90196    0.96269 +/- 0.00318\n",
      "      151/1    1.02703    0.96314 +/- 0.00319\n",
      "      152/1    0.91664    0.96281 +/- 0.00319\n",
      "      153/1    0.99695    0.96305 +/- 0.00317\n",
      "      154/1    1.01772    0.96343 +/- 0.00317\n",
      "      155/1    0.94936    0.96334 +/- 0.00315\n",
      "      156/1    0.95668    0.96329 +/- 0.00313\n",
      "      157/1    0.98282    0.96342 +/- 0.00311\n",
      "      158/1    0.96645    0.96344 +/- 0.00309\n",
      "      159/1    0.97294    0.96351 +/- 0.00307\n",
      "      160/1    0.91272    0.96317 +/- 0.00307\n",
      "      161/1    0.98504    0.96331 +/- 0.00305\n",
      "      162/1    0.98490    0.96346 +/- 0.00304\n",
      "      163/1    0.97441    0.96353 +/- 0.00302\n",
      "      164/1    0.96135    0.96351 +/- 0.00300\n",
      "      165/1    0.95659    0.96347 +/- 0.00298\n",
      "      166/1    0.89881    0.96305 +/- 0.00299\n",
      "      167/1    1.01473    0.96338 +/- 0.00299\n",
      "      168/1    0.94216    0.96325 +/- 0.00297\n",
      "      169/1    0.98185    0.96337 +/- 0.00295\n",
      "      170/1    0.85746    0.96270 +/- 0.00301\n",
      "      171/1    0.97193    0.96276 +/- 0.00299\n",
      "      172/1    0.94337    0.96264 +/- 0.00298\n",
      "      173/1    0.95602    0.96260 +/- 0.00296\n",
      "      174/1    1.00893    0.96288 +/- 0.00295\n",
      "      175/1    0.97598    0.96296 +/- 0.00294\n",
      "      176/1    0.93194    0.96278 +/- 0.00292\n",
      "      177/1    0.95375    0.96272 +/- 0.00291\n",
      "      178/1    0.95930    0.96270 +/- 0.00289\n",
      "      179/1    0.94973    0.96262 +/- 0.00287\n",
      "      180/1    0.98295    0.96274 +/- 0.00286\n",
      "      181/1    0.87647    0.96224 +/- 0.00289\n",
      "      182/1    0.97199    0.96230 +/- 0.00287\n",
      "      183/1    0.97388    0.96236 +/- 0.00285\n",
      "      184/1    1.02809    0.96274 +/- 0.00286\n",
      "      185/1    0.96557    0.96276 +/- 0.00285\n",
      "      186/1    0.97269    0.96281 +/- 0.00283\n",
      "      187/1    0.94786    0.96273 +/- 0.00282\n",
      "      188/1    0.98555    0.96286 +/- 0.00280\n",
      "      189/1    0.95261    0.96280 +/- 0.00279\n",
      "      190/1    0.95776    0.96277 +/- 0.00277\n",
      "      191/1    0.97145    0.96282 +/- 0.00276\n",
      "      192/1    0.92617    0.96262 +/- 0.00275\n",
      "      193/1    0.98472    0.96274 +/- 0.00274\n",
      "      194/1    1.00959    0.96299 +/- 0.00274\n",
      "      195/1    0.93439    0.96284 +/- 0.00272\n",
      "      196/1    0.97618    0.96291 +/- 0.00271\n",
      "      197/1    0.90015    0.96258 +/- 0.00272\n",
      "      198/1    0.95870    0.96256 +/- 0.00270\n",
      "      199/1    0.96646    0.96258 +/- 0.00269\n",
      "      200/1    0.99808    0.96276 +/- 0.00268\n",
      " Creating state point statepoint.200.h5...\n",
      "\n",
      " =======================>     TIMING STATISTICS     <=======================\n",
      "\n",
      " Total time for initialization     = 3.0964e-01 seconds\n",
      "   Reading cross sections          = 2.8559e-01 seconds\n",
      " Total time in simulation          = 7.2425e+00 seconds\n",
      "   Time in transport only          = 7.2342e+00 seconds\n",
      "   Time in inactive batches        = 3.2547e-01 seconds\n",
      "   Time in active batches          = 6.9170e+00 seconds\n",
      "   Time synchronizing fission bank = 3.3794e-03 seconds\n",
      "     Sampling source sites         = 2.8202e-03 seconds\n",
      "     SEND/RECV source sites        = 4.3245e-04 seconds\n",
      "   Time accumulating tallies       = 4.9290e-05 seconds\n",
      "   Time writing statepoints        = 2.1447e-03 seconds\n",
      " Total time for finalization       = 4.0420e-06 seconds\n",
      " Total time elapsed                = 7.5541e+00 seconds\n",
      " Calculation Rate (inactive)       = 30724.4 particles/second\n",
      " Calculation Rate (active)         = 27468.4 particles/second\n",
      "\n",
      " ============================>     RESULTS     <============================\n",
      "\n",
      " k-effective (Collision)     = 0.96317 +/- 0.00240\n",
      " k-effective (Track-length)  = 0.96276 +/- 0.00268\n",
      " k-effective (Absorption)    = 0.96028 +/- 0.00235\n",
      " Combined k-effective        = 0.96161 +/- 0.00185\n",
      " Leakage Fraction            = 0.00000 +/- 0.00000\n",
      "\n"
     ]
    }
   ],
   "source": [
    "openmc.run(output=True)"
   ]
  },
  {
   "cell_type": "code",
   "execution_count": null,
   "id": "6a31b569-0b58-405f-9d64-2fc299508bfd",
   "metadata": {},
   "outputs": [],
   "source": []
  },
  {
   "cell_type": "code",
   "execution_count": null,
   "id": "941353cb-b6b4-409e-a134-3aedc8acb8f8",
   "metadata": {},
   "outputs": [],
   "source": []
  }
 ],
 "metadata": {
  "kernelspec": {
   "display_name": "Python (openmc)",
   "language": "python",
   "name": "openmc"
  },
  "language_info": {
   "codemirror_mode": {
    "name": "ipython",
    "version": 3
   },
   "file_extension": ".py",
   "mimetype": "text/x-python",
   "name": "python",
   "nbconvert_exporter": "python",
   "pygments_lexer": "ipython3",
   "version": "3.13.1"
  }
 },
 "nbformat": 4,
 "nbformat_minor": 5
}
