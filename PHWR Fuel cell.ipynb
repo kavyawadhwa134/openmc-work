{
 "cells": [
  {
   "cell_type": "code",
   "execution_count": 1,
   "id": "4bd0d25d-c81a-4359-923a-79d493e1c9c4",
   "metadata": {},
   "outputs": [],
   "source": [
    "import openmc"
   ]
  },
  {
   "cell_type": "code",
   "execution_count": 2,
   "id": "6ce12d68-aab5-4134-8ea3-13b9fd4741fe",
   "metadata": {},
   "outputs": [],
   "source": [
    "fuel_material = openmc.Material(name=\"Natural UO2 Fuel\")\n",
    "fuel_material.add_nuclide('U235', 0.0072)  \n",
    "fuel_material.add_nuclide('U238', 0.9928) \n",
    "fuel_material.add_element('O', 2)\n",
    "fuel_material.set_density('g/cm3', 10.5)  "
   ]
  },
  {
   "cell_type": "code",
   "execution_count": 3,
   "id": "7dfbeded-eb52-4df9-b223-bdf8041dc454",
   "metadata": {},
   "outputs": [],
   "source": [
    "cladding = openmc.Material(name=\"Zirconium Cladding\")\n",
    "cladding.add_element('Zr', 1)\n",
    "cladding.set_density('g/cm3', 6.55)  "
   ]
  },
  {
   "cell_type": "code",
   "execution_count": 4,
   "id": "301db706-11fc-4ccb-ac55-832646cbb8f9",
   "metadata": {},
   "outputs": [],
   "source": [
    "coolant = openmc.Material(name=\"Heavy Water (D2O)\")\n",
    "coolant.add_element('H', 2)  \n",
    "coolant.add_element('O', 1)\n",
    "coolant.set_density('g/cm3', 1.11)  "
   ]
  },
  {
   "cell_type": "code",
   "execution_count": 5,
   "id": "61e3f8f8-9e59-41f1-af84-e0df3d40e9af",
   "metadata": {},
   "outputs": [],
   "source": [
    "materials = openmc.Materials([fuel_material, cladding, coolant])"
   ]
  },
  {
   "cell_type": "code",
   "execution_count": 6,
   "id": "ea9145e7-7546-4b27-87a6-3c4e5d2cbe86",
   "metadata": {},
   "outputs": [],
   "source": [
    "materials.export_to_xml()"
   ]
  },
  {
   "cell_type": "code",
   "execution_count": 7,
   "id": "5e32c750-bb7d-4928-97fc-872d5706d1f0",
   "metadata": {},
   "outputs": [
    {
     "name": "stdout",
     "output_type": "stream",
     "text": [
      "<?xml version='1.0' encoding='utf-8'?>\n",
      "<materials>\n",
      "  <material depletable=\"true\" id=\"1\" name=\"Natural UO2 Fuel\">\n",
      "    <density units=\"g/cm3\" value=\"10.5\"/>\n",
      "    <nuclide ao=\"0.0072\" name=\"U235\"/>\n",
      "    <nuclide ao=\"0.9928\" name=\"U238\"/>\n",
      "    <nuclide ao=\"1.999242\" name=\"O16\"/>\n",
      "    <nuclide ao=\"0.000758\" name=\"O17\"/>\n",
      "  </material>\n",
      "  <material id=\"2\" name=\"Zirconium Cladding\">\n",
      "    <density units=\"g/cm3\" value=\"6.55\"/>\n",
      "    <nuclide ao=\"0.5145\" name=\"Zr90\"/>\n",
      "    <nuclide ao=\"0.1122\" name=\"Zr91\"/>\n",
      "    <nuclide ao=\"0.1715\" name=\"Zr92\"/>\n",
      "    <nuclide ao=\"0.1738\" name=\"Zr94\"/>\n",
      "    <nuclide ao=\"0.028\" name=\"Zr96\"/>\n",
      "  </material>\n",
      "  <material id=\"3\" name=\"Heavy Water (D2O)\">\n",
      "    <density units=\"g/cm3\" value=\"1.11\"/>\n",
      "    <nuclide ao=\"1.99968852\" name=\"H1\"/>\n",
      "    <nuclide ao=\"0.00031148\" name=\"H2\"/>\n",
      "    <nuclide ao=\"0.999621\" name=\"O16\"/>\n",
      "    <nuclide ao=\"0.000379\" name=\"O17\"/>\n",
      "  </material>\n",
      "</materials>\n"
     ]
    }
   ],
   "source": [
    "!cat materials.xml"
   ]
  },
  {
   "cell_type": "code",
   "execution_count": 8,
   "id": "f3b0288a-a756-4947-b9e1-d2ef2d9e2655",
   "metadata": {},
   "outputs": [],
   "source": [
    "fuel_or = openmc.ZCylinder(r=0.39)\n",
    "clad_ir = openmc.ZCylinder(r=0.40)\n",
    "clad_or = openmc.ZCylinder(r=0.46)\n",
    "\n",
    "pitch = 1.26\n",
    "left = openmc.XPlane(x0=-pitch/2, boundary_type='reflective')\n",
    "right = openmc.XPlane(x0=pitch/2, boundary_type='reflective')\n",
    "bottom = openmc.YPlane(y0=-pitch/2, boundary_type='reflective')\n",
    "top = openmc.YPlane(y0=pitch/2, boundary_type='reflective')"
   ]
  },
  {
   "cell_type": "code",
   "execution_count": 9,
   "id": "274bc36e-63a6-4097-9ea9-e9cc7ab98868",
   "metadata": {},
   "outputs": [],
   "source": [
    "fuel_region = -fuel_or\n",
    "gap_region = +fuel_or & -clad_ir\n",
    "clad_region = +clad_ir & -clad_or\n",
    "water_region = +left & -right & +bottom & -top & +clad_or"
   ]
  },
  {
   "cell_type": "code",
   "execution_count": 10,
   "id": "47602fd2-a5ad-4038-ac04-efe782fc1ab2",
   "metadata": {},
   "outputs": [],
   "source": [
    "fuel_cell = openmc.Cell(name=\"Fuel\")\n",
    "fuel_cell.fill = fuel_material\n",
    "fuel_cell.region = fuel_region\n",
    "\n",
    "gap_cell = openmc.Cell(name=\"Gap\")\n",
    "gap_cell.fill = None\n",
    "gap_cell.region = gap_region\n",
    "\n",
    "clad_cell = openmc.Cell(name=\"Cladding\")\n",
    "clad_cell.fill = cladding\n",
    "clad_cell.region = clad_region\n",
    "\n",
    "moderator_cell = openmc.Cell(name=\"Moderator\")\n",
    "moderator_cell.fill = coolant\n",
    "moderator_cell.region = water_region\n"
   ]
  },
  {
   "cell_type": "code",
   "execution_count": 11,
   "id": "3ba3cc2e-0cfc-4355-b3d7-2aaaf69ade92",
   "metadata": {},
   "outputs": [
    {
     "name": "stdout",
     "output_type": "stream",
     "text": [
      "<?xml version='1.0' encoding='UTF-8'?>\n",
      "<geometry>\n",
      "  <cell id=\"1\" material=\"1\" name=\"Fuel\" region=\"-1\" universe=\"1\"/>\n",
      "  <cell id=\"2\" material=\"void\" name=\"Gap\" region=\"1 -2\" universe=\"1\"/>\n",
      "  <cell id=\"3\" material=\"2\" name=\"Cladding\" region=\"2 -3\" universe=\"1\"/>\n",
      "  <cell id=\"4\" material=\"3\" name=\"Moderator\" region=\"4 -5 6 -7 3\" universe=\"1\"/>\n",
      "  <surface coeffs=\"0.0 0.0 0.39\" id=\"1\" type=\"z-cylinder\"/>\n",
      "  <surface coeffs=\"0.0 0.0 0.4\" id=\"2\" type=\"z-cylinder\"/>\n",
      "  <surface coeffs=\"0.0 0.0 0.46\" id=\"3\" type=\"z-cylinder\"/>\n",
      "  <surface boundary=\"reflective\" coeffs=\"-0.63\" id=\"4\" type=\"x-plane\"/>\n",
      "  <surface boundary=\"reflective\" coeffs=\"0.63\" id=\"5\" type=\"x-plane\"/>\n",
      "  <surface boundary=\"reflective\" coeffs=\"-0.63\" id=\"6\" type=\"y-plane\"/>\n",
      "  <surface boundary=\"reflective\" coeffs=\"0.63\" id=\"7\" type=\"y-plane\"/>\n",
      "</geometry>\n"
     ]
    }
   ],
   "source": [
    "root = openmc.Universe()\n",
    "root.add_cells((fuel_cell, gap_cell, clad_cell, moderator_cell))\n",
    "\n",
    "g = openmc.Geometry()\n",
    "g.root_universe = root\n",
    "g.export_to_xml()\n",
    "!cat geometry.xml"
   ]
  },
  {
   "cell_type": "code",
   "execution_count": 12,
   "id": "c141fd6f-8aa6-4136-bd2b-f556bd09d293",
   "metadata": {},
   "outputs": [],
   "source": [
    "p = openmc.Plot()"
   ]
  },
  {
   "cell_type": "code",
   "execution_count": 13,
   "id": "5a4a3ddf-fa43-4f2d-8080-fec73e35da05",
   "metadata": {},
   "outputs": [],
   "source": [
    "p.width = [pitch, pitch]\n",
    "p.pixels = [400, 400]\n",
    "p.color_by = 'material'\n",
    "p.colors = {fuel_material:'Orange', coolant:'cyan', cladding:'gray'}"
   ]
  },
  {
   "cell_type": "code",
   "execution_count": 14,
   "id": "3a631cd9-867f-4d98-b087-566704cc272e",
   "metadata": {},
   "outputs": [
    {
     "data": {
      "image/png": "[encoded data removed]",
      "text/plain": [
       "<IPython.core.display.Image object>"
      ]
     },
     "metadata": {},
     "output_type": "display_data"
    }
   ],
   "source": [
    "openmc.plot_inline(p)"
   ]
  },
  {
   "cell_type": "code",
   "execution_count": null,
   "id": "dfb77adb-8b66-46f0-b4df-7c34367df50f",
   "metadata": {},
   "outputs": [],
   "source": []
  },
  {
   "cell_type": "code",
   "execution_count": null,
   "id": "964c35f0-abeb-40f8-a8aa-7f76b81eb4b8",
   "metadata": {},
   "outputs": [],
   "source": []
  },
  {
   "cell_type": "code",
   "execution_count": 15,
   "id": "12d214a6-cc65-4ba8-a69c-ab04a33b3ae4",
   "metadata": {},
   "outputs": [
    {
     "name": "stderr",
     "output_type": "stream",
     "text": [
      "/home/kavya/anaconda3/envs/openmc/lib/python3.13/site-packages/openmc/stats/multivariate.py:943: FutureWarning: The 'only_fissionable' has been deprecated. Use the 'constraints' argument when defining a source instead.\n",
      "  warn(\"The 'only_fissionable' has been deprecated. Use the \"\n",
      "/home/kavya/anaconda3/envs/openmc/lib/python3.13/site-packages/openmc/source.py:658: FutureWarning: This class is deprecated in favor of 'IndependentSource'\n",
      "  warnings.warn(\"This class is deprecated in favor of 'IndependentSource'\", FutureWarning)\n"
     ]
    }
   ],
   "source": [
    "settings = openmc.Settings()\n",
    "settings.batches = 100  \n",
    "settings.inactive = 10  \n",
    "settings.particles = 1000  \n",
    "settings.source = openmc.Source(space=openmc.stats.Box(\n",
    "    [-pitch/2, -pitch/2, -10],\n",
    "    [pitch/2, pitch/2, 10],\n",
    "    only_fissionable=True\n",
    "))\n",
    "settings.export_to_xml()"
   ]
  },
  {
   "cell_type": "code",
   "execution_count": null,
   "id": "1ef9a959-07da-4bec-acbc-216f56174ccd",
   "metadata": {},
   "outputs": [],
   "source": []
  },
  {
   "cell_type": "code",
   "execution_count": 16,
   "id": "671c6ae6-7017-4fb4-ab57-252a0865ce43",
   "metadata": {},
   "outputs": [
    {
     "name": "stdout",
     "output_type": "stream",
     "text": [
      "                                %%%%%%%%%%%%%%%\n",
      "                           %%%%%%%%%%%%%%%%%%%%%%%%\n",
      "                        %%%%%%%%%%%%%%%%%%%%%%%%%%%%%%\n",
      "                      %%%%%%%%%%%%%%%%%%%%%%%%%%%%%%%%%%\n",
      "                    %%%%%%%%%%%%%%%%%%%%%%%%%%%%%%%%%%%%%%\n",
      "                   %%%%%%%%%%%%%%%%%%%%%%%%%%%%%%%%%%%%%%%%\n",
      "                                    %%%%%%%%%%%%%%%%%%%%%%%%\n",
      "                                     %%%%%%%%%%%%%%%%%%%%%%%%\n",
      "                 ###############      %%%%%%%%%%%%%%%%%%%%%%%%\n",
      "                ##################     %%%%%%%%%%%%%%%%%%%%%%%\n",
      "                ###################     %%%%%%%%%%%%%%%%%%%%%%%\n",
      "                ####################     %%%%%%%%%%%%%%%%%%%%%%\n",
      "                #####################     %%%%%%%%%%%%%%%%%%%%%\n",
      "                ######################     %%%%%%%%%%%%%%%%%%%%\n",
      "                #######################     %%%%%%%%%%%%%%%%%%\n",
      "                 #######################     %%%%%%%%%%%%%%%%%\n",
      "                 ######################     %%%%%%%%%%%%%%%%%\n",
      "                  ####################     %%%%%%%%%%%%%%%%%\n",
      "                    #################     %%%%%%%%%%%%%%%%%\n",
      "                     ###############     %%%%%%%%%%%%%%%%\n",
      "                       ############     %%%%%%%%%%%%%%%\n",
      "                          ########     %%%%%%%%%%%%%%\n",
      "                                      %%%%%%%%%%%\n",
      "\n",
      "                 | The OpenMC Monte Carlo Code\n",
      "       Copyright | 2011-2024 MIT, UChicago Argonne LLC, and contributors\n",
      "         License | https://docs.openmc.org/en/latest/license.html\n",
      "         Version | 0.15.1-dev\n",
      "        Git SHA1 | de8132a5a431660f5ff515cc7894ea0f283d3bec\n",
      "       Date/Time | 2024-12-16 12:30:00\n",
      "  OpenMP Threads | 4\n",
      "\n",
      " Reading settings XML file...\n",
      " Reading cross sections XML file...\n",
      " Reading materials XML file...\n",
      " Reading geometry XML file...\n",
      " Reading U234 from /home/kavya/openmc/endfb-vii.1-hdf5/neutron/U234.h5\n",
      " Reading U235 from /home/kavya/openmc/endfb-vii.1-hdf5/neutron/U235.h5\n",
      " Reading U238 from /home/kavya/openmc/endfb-vii.1-hdf5/neutron/U238.h5\n",
      " Reading U236 from /home/kavya/openmc/endfb-vii.1-hdf5/neutron/U236.h5\n",
      " Reading O16 from /home/kavya/openmc/endfb-vii.1-hdf5/neutron/O16.h5\n",
      " Reading O17 from /home/kavya/openmc/endfb-vii.1-hdf5/neutron/O17.h5\n",
      " Reading Zr90 from /home/kavya/openmc/endfb-vii.1-hdf5/neutron/Zr90.h5\n",
      " Reading Zr91 from /home/kavya/openmc/endfb-vii.1-hdf5/neutron/Zr91.h5\n",
      " Reading Zr92 from /home/kavya/openmc/endfb-vii.1-hdf5/neutron/Zr92.h5\n",
      " Reading Zr94 from /home/kavya/openmc/endfb-vii.1-hdf5/neutron/Zr94.h5\n",
      " Reading Zr96 from /home/kavya/openmc/endfb-vii.1-hdf5/neutron/Zr96.h5\n",
      " Reading H1 from /home/kavya/openmc/endfb-vii.1-hdf5/neutron/H1.h5\n",
      " Reading H2 from /home/kavya/openmc/endfb-vii.1-hdf5/neutron/H2.h5\n",
      " Minimum neutron data temperature: 294 K\n",
      " Maximum neutron data temperature: 294 K\n",
      " Preparing distributed cell instances...\n",
      " Reading plot XML file...\n",
      " Writing summary.h5 file...\n",
      " Maximum neutron transport energy: 20000000 eV for U235\n",
      " Initializing source particles...\n",
      "\n",
      " ====================>     K EIGENVALUE SIMULATION     <====================\n",
      "\n",
      "  Bat./Gen.      k            Average k\n",
      "  =========   ========   ====================\n",
      "        1/1    1.47823\n",
      "        2/1    1.44891\n",
      "        3/1    1.48915\n",
      "        4/1    1.49878\n",
      "        5/1    1.49647\n",
      "        6/1    1.47725\n",
      "        7/1    1.57304\n",
      "        8/1    1.52798\n",
      "        9/1    1.56912\n",
      "       10/1    1.55896\n",
      "       11/1    1.59843\n",
      "       12/1    1.52244    1.56043 +/- 0.03800\n",
      "       13/1    1.44274    1.52120 +/- 0.04495\n",
      "       14/1    1.36843    1.48301 +/- 0.04969\n",
      "       15/1    1.51268    1.48894 +/- 0.03894\n",
      "       16/1    1.54382    1.49809 +/- 0.03309\n",
      "       17/1    1.57261    1.50874 +/- 0.02992\n",
      "       18/1    1.41896    1.49751 +/- 0.02824\n",
      "       19/1    1.43336    1.49038 +/- 0.02590\n",
      "       20/1    1.47141    1.48849 +/- 0.02325\n",
      "       21/1    1.51810    1.49118 +/- 0.02120\n",
      "       22/1    1.39966    1.48355 +/- 0.02080\n",
      "       23/1    1.54988    1.48865 +/- 0.01980\n",
      "       24/1    1.51866    1.49080 +/- 0.01846\n",
      "       25/1    1.54554    1.49445 +/- 0.01757\n",
      "       26/1    1.53008    1.49667 +/- 0.01658\n",
      "       27/1    1.41296    1.49175 +/- 0.01634\n",
      "       28/1    1.47058    1.49057 +/- 0.01545\n",
      "       29/1    1.42007    1.48686 +/- 0.01508\n",
      "       30/1    1.40920    1.48298 +/- 0.01482\n",
      "       31/1    1.51289    1.48440 +/- 0.01417\n",
      "       32/1    1.44395    1.48257 +/- 0.01363\n",
      "       33/1    1.51559    1.48400 +/- 0.01311\n",
      "       34/1    1.40886    1.48087 +/- 0.01293\n",
      "       35/1    1.53928    1.48321 +/- 0.01262\n",
      "       36/1    1.51729    1.48452 +/- 0.01220\n",
      "       37/1    1.53558    1.48641 +/- 0.01189\n",
      "       38/1    1.46216    1.48554 +/- 0.01149\n",
      "       39/1    1.43563    1.48382 +/- 0.01122\n",
      "       40/1    1.48610    1.48390 +/- 0.01084\n",
      "       41/1    1.36775    1.48015 +/- 0.01113\n",
      "       42/1    1.55801    1.48258 +/- 0.01105\n",
      "       43/1    1.46042    1.48191 +/- 0.01073\n",
      "       44/1    1.47294    1.48165 +/- 0.01041\n",
      "       45/1    1.43957    1.48045 +/- 0.01018\n",
      "       46/1    1.45415    1.47972 +/- 0.00992\n",
      "       47/1    1.37689    1.47694 +/- 0.01004\n",
      "       48/1    1.46414    1.47660 +/- 0.00978\n",
      "       49/1    1.49604    1.47710 +/- 0.00954\n",
      "       50/1    1.47051    1.47693 +/- 0.00930\n",
      "       51/1    1.51766    1.47793 +/- 0.00912\n",
      "       52/1    1.57599    1.48026 +/- 0.00921\n",
      "       53/1    1.44766    1.47950 +/- 0.00902\n",
      "       54/1    1.38771    1.47742 +/- 0.00906\n",
      "       55/1    1.48792    1.47765 +/- 0.00886\n",
      "       56/1    1.47366    1.47756 +/- 0.00866\n",
      "       57/1    1.58142    1.47977 +/- 0.00876\n",
      "       58/1    1.41790    1.47848 +/- 0.00867\n",
      "       59/1    1.48469    1.47861 +/- 0.00849\n",
      "       60/1    1.45551    1.47815 +/- 0.00833\n",
      "       61/1    1.50121    1.47860 +/- 0.00818\n",
      "       62/1    1.44146    1.47789 +/- 0.00806\n",
      "       63/1    1.49467    1.47820 +/- 0.00791\n",
      "       64/1    1.50960    1.47879 +/- 0.00778\n",
      "       65/1    1.44263    1.47813 +/- 0.00767\n",
      "       66/1    1.42004    1.47709 +/- 0.00760\n",
      "       67/1    1.53167    1.47805 +/- 0.00753\n",
      "       68/1    1.45760    1.47770 +/- 0.00740\n",
      "       69/1    1.40808    1.47652 +/- 0.00737\n",
      "       70/1    1.43744    1.47586 +/- 0.00728\n",
      "       71/1    1.46461    1.47568 +/- 0.00716\n",
      "       72/1    1.36131    1.47384 +/- 0.00728\n",
      "       73/1    1.43630    1.47324 +/- 0.00719\n",
      "       74/1    1.39794    1.47206 +/- 0.00717\n",
      "       75/1    1.47518    1.47211 +/- 0.00706\n",
      "       76/1    1.40080    1.47103 +/- 0.00704\n",
      "       77/1    1.50319    1.47151 +/- 0.00695\n",
      "       78/1    1.51727    1.47218 +/- 0.00688\n",
      "       79/1    1.43134    1.47159 +/- 0.00680\n",
      "       80/1    1.41448    1.47078 +/- 0.00676\n",
      "       81/1    1.48792    1.47102 +/- 0.00666\n",
      "       82/1    1.49937    1.47141 +/- 0.00658\n",
      "       83/1    1.54898    1.47247 +/- 0.00658\n",
      "       84/1    1.58243    1.47396 +/- 0.00666\n",
      "       85/1    1.45901    1.47376 +/- 0.00657\n",
      "       86/1    1.44232    1.47335 +/- 0.00650\n",
      "       87/1    1.53768    1.47418 +/- 0.00647\n",
      "       88/1    1.54603    1.47510 +/- 0.00645\n",
      "       89/1    1.45437    1.47484 +/- 0.00637\n",
      "       90/1    1.46503    1.47472 +/- 0.00629\n",
      "       91/1    1.51575    1.47522 +/- 0.00624\n",
      "       92/1    1.44938    1.47491 +/- 0.00617\n",
      "       93/1    1.56690    1.47602 +/- 0.00619\n",
      "       94/1    1.52321    1.47658 +/- 0.00614\n",
      "       95/1    1.50913    1.47696 +/- 0.00608\n",
      "       96/1    1.50674    1.47731 +/- 0.00602\n",
      "       97/1    1.49483    1.47751 +/- 0.00596\n",
      "       98/1    1.54849    1.47832 +/- 0.00594\n",
      "       99/1    1.49506    1.47850 +/- 0.00588\n",
      "      100/1    1.61235    1.47999 +/- 0.00600\n",
      " Creating state point statepoint.100.h5...\n",
      "\n",
      " =======================>     TIMING STATISTICS     <=======================\n",
      "\n",
      " Total time for initialization     = 8.8538e+00 seconds\n",
      "   Reading cross sections          = 8.6014e+00 seconds\n",
      " Total time in simulation          = 4.6115e+01 seconds\n",
      "   Time in transport only          = 4.5906e+01 seconds\n",
      "   Time in inactive batches        = 1.1286e+01 seconds\n",
      "   Time in active batches          = 3.4830e+01 seconds\n",
      "   Time synchronizing fission bank = 6.3719e-02 seconds\n",
      "     Sampling source sites         = 5.9161e-02 seconds\n",
      "     SEND/RECV source sites        = 4.1577e-03 seconds\n",
      "   Time accumulating tallies       = 2.2335e-04 seconds\n",
      "   Time writing statepoints        = 2.2579e-02 seconds\n",
      " Total time for finalization       = 7.4350e-06 seconds\n",
      " Total time elapsed                = 5.5130e+01 seconds\n",
      " Calculation Rate (inactive)       = 886.093 particles/second\n",
      " Calculation Rate (active)         = 2584.01 particles/second\n",
      "\n",
      " ============================>     RESULTS     <============================\n",
      "\n",
      " k-effective (Collision)     = 1.47958 +/- 0.00437\n",
      " k-effective (Track-length)  = 1.47999 +/- 0.00600\n",
      " k-effective (Absorption)    = 1.49076 +/- 0.00288\n",
      " Combined k-effective        = 1.48828 +/- 0.00285\n",
      " Leakage Fraction            = 0.00000 +/- 0.00000\n",
      "\n"
     ]
    }
   ],
   "source": [
    "openmc.run()"
   ]
  },
  {
   "cell_type": "code",
   "execution_count": null,
   "id": "83d60bde-a7ea-4438-a124-568dca16f1a3",
   "metadata": {},
   "outputs": [],
   "source": []
  },
  {
   "cell_type": "code",
   "execution_count": null,
   "id": "af1cbbd0-0964-41a0-af84-242d525dba22",
   "metadata": {},
   "outputs": [],
   "source": []
  }
 ],
 "metadata": {
  "kernelspec": {
   "display_name": "Python 3 (ipykernel)",
   "language": "python",
   "name": "python3"
  },
  "language_info": {
   "codemirror_mode": {
    "name": "ipython",
    "version": 3
   },
   "file_extension": ".py",
   "mimetype": "text/x-python",
   "name": "python",
   "nbconvert_exporter": "python",
   "pygments_lexer": "ipython3",
   "version": "3.13.1"
  }
 },
 "nbformat": 4,
 "nbformat_minor": 5
}
